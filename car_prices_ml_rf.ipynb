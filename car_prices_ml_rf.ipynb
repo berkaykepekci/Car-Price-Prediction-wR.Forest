{
 "cells": [
  {
   "cell_type": "code",
   "execution_count": 1,
   "metadata": {},
   "outputs": [],
   "source": [
    "#C:\\Users\\berka\\Desktop\\Dersler\\Machine Learning\\Practice_week1\n",
    "import numpy as np\n",
    "import pandas as pd \n",
    "from sklearn.model_selection import train_test_split, GridSearchCV\n",
    "from sklearn.metrics import mean_squared_error, r2_score\n",
    "import matplotlib.pyplot as plt\n",
    "from sklearn.preprocessing import scale \n",
    "from sklearn.preprocessing import StandardScaler\n",
    "from sklearn import model_selection\n",
    "from sklearn.linear_model import LinearRegression\n",
    "from sklearn.tree import DecisionTreeRegressor\n",
    "from sklearn.neighbors import KNeighborsRegressor\n",
    "from sklearn.neural_network import MLPRegressor\n",
    "from sklearn.ensemble import RandomForestRegressor\n",
    "from sklearn.ensemble import GradientBoostingRegressor\n",
    "from sklearn import neighbors\n",
    "from sklearn.svm import SVR"
   ]
  },
  {
   "cell_type": "code",
   "execution_count": 2,
   "metadata": {},
   "outputs": [
    {
     "name": "stdout",
     "output_type": "stream",
     "text": [
      "Requirement already satisfied: xgboost in c:\\users\\berka\\anaconda3\\lib\\site-packages (1.3.3)\n",
      "Requirement already satisfied: numpy in c:\\users\\berka\\anaconda3\\lib\\site-packages (from xgboost) (1.19.2)\n",
      "Requirement already satisfied: scipy in c:\\users\\berka\\anaconda3\\lib\\site-packages (from xgboost) (1.5.2)\n"
     ]
    }
   ],
   "source": [
    "!pip install xgboost"
   ]
  },
  {
   "cell_type": "code",
   "execution_count": 3,
   "metadata": {},
   "outputs": [
    {
     "name": "stderr",
     "output_type": "stream",
     "text": [
      "WARNING: Retrying (Retry(total=4, connect=None, read=None, redirect=None, status=None)) after connection broken by 'NewConnectionError('<pip._vendor.urllib3.connection.HTTPSConnection object at 0x0000019B02848DC0>: Failed to establish a new connection: [Errno 11001] getaddrinfo failed')': /simple/ligthgbm/\n",
      "WARNING: Retrying (Retry(total=3, connect=None, read=None, redirect=None, status=None)) after connection broken by 'NewConnectionError('<pip._vendor.urllib3.connection.HTTPSConnection object at 0x0000019B02848E20>: Failed to establish a new connection: [Errno 11001] getaddrinfo failed')': /simple/ligthgbm/\n",
      "WARNING: Retrying (Retry(total=2, connect=None, read=None, redirect=None, status=None)) after connection broken by 'NewConnectionError('<pip._vendor.urllib3.connection.HTTPSConnection object at 0x0000019B02848CA0>: Failed to establish a new connection: [Errno 11001] getaddrinfo failed')': /simple/ligthgbm/\n",
      "WARNING: Retrying (Retry(total=1, connect=None, read=None, redirect=None, status=None)) after connection broken by 'NewConnectionError('<pip._vendor.urllib3.connection.HTTPSConnection object at 0x0000019B02848A60>: Failed to establish a new connection: [Errno 11001] getaddrinfo failed')': /simple/ligthgbm/\n",
      "WARNING: Retrying (Retry(total=0, connect=None, read=None, redirect=None, status=None)) after connection broken by 'NewConnectionError('<pip._vendor.urllib3.connection.HTTPSConnection object at 0x0000019B028488B0>: Failed to establish a new connection: [Errno 11001] getaddrinfo failed')': /simple/ligthgbm/\n",
      "ERROR: Could not find a version that satisfies the requirement ligthgbm (from versions: none)\n",
      "ERROR: No matching distribution found for ligthgbm\n"
     ]
    }
   ],
   "source": [
    "!pip install ligthgbm"
   ]
  },
  {
   "cell_type": "code",
   "execution_count": 4,
   "metadata": {},
   "outputs": [
    {
     "name": "stdout",
     "output_type": "stream",
     "text": [
      "Requirement already satisfied: lightgbm in c:\\users\\berka\\anaconda3\\lib\\site-packages (3.1.1)\n",
      "Requirement already satisfied: wheel in c:\\users\\berka\\anaconda3\\lib\\site-packages (from lightgbm) (0.35.1)\n",
      "Requirement already satisfied: scikit-learn!=0.22.0 in c:\\users\\berka\\anaconda3\\lib\\site-packages (from lightgbm) (0.23.2)\n",
      "Requirement already satisfied: numpy in c:\\users\\berka\\anaconda3\\lib\\site-packages (from lightgbm) (1.19.2)\n",
      "Requirement already satisfied: scipy in c:\\users\\berka\\anaconda3\\lib\\site-packages (from lightgbm) (1.5.2)\n",
      "Requirement already satisfied: joblib>=0.11 in c:\\users\\berka\\anaconda3\\lib\\site-packages (from scikit-learn!=0.22.0->lightgbm) (0.17.0)\n",
      "Requirement already satisfied: threadpoolctl>=2.0.0 in c:\\users\\berka\\anaconda3\\lib\\site-packages (from scikit-learn!=0.22.0->lightgbm) (2.1.0)\n"
     ]
    }
   ],
   "source": [
    "!pip install lightgbm"
   ]
  },
  {
   "cell_type": "code",
   "execution_count": 5,
   "metadata": {},
   "outputs": [
    {
     "name": "stdout",
     "output_type": "stream",
     "text": [
      "Requirement already satisfied: catboost in c:\\users\\berka\\anaconda3\\lib\\site-packages (0.24.4)\n",
      "Requirement already satisfied: scipy in c:\\users\\berka\\anaconda3\\lib\\site-packages (from catboost) (1.5.2)\n",
      "Requirement already satisfied: numpy>=1.16.0 in c:\\users\\berka\\anaconda3\\lib\\site-packages (from catboost) (1.19.2)\n",
      "Requirement already satisfied: matplotlib in c:\\users\\berka\\anaconda3\\lib\\site-packages (from catboost) (3.3.2)\n",
      "Requirement already satisfied: six in c:\\users\\berka\\anaconda3\\lib\\site-packages (from catboost) (1.15.0)\n",
      "Requirement already satisfied: pandas>=0.24.0 in c:\\users\\berka\\anaconda3\\lib\\site-packages (from catboost) (1.1.3)\n",
      "Requirement already satisfied: graphviz in c:\\users\\berka\\anaconda3\\lib\\site-packages (from catboost) (0.16)\n",
      "Requirement already satisfied: plotly in c:\\users\\berka\\anaconda3\\lib\\site-packages (from catboost) (4.14.3)\n",
      "Requirement already satisfied: pillow>=6.2.0 in c:\\users\\berka\\anaconda3\\lib\\site-packages (from matplotlib->catboost) (8.0.1)\n",
      "Requirement already satisfied: python-dateutil>=2.1 in c:\\users\\berka\\anaconda3\\lib\\site-packages (from matplotlib->catboost) (2.8.1)\n",
      "Requirement already satisfied: pyparsing!=2.0.4,!=2.1.2,!=2.1.6,>=2.0.3 in c:\\users\\berka\\anaconda3\\lib\\site-packages (from matplotlib->catboost) (2.4.7)\n",
      "Requirement already satisfied: kiwisolver>=1.0.1 in c:\\users\\berka\\anaconda3\\lib\\site-packages (from matplotlib->catboost) (1.3.0)\n",
      "Requirement already satisfied: certifi>=2020.06.20 in c:\\users\\berka\\anaconda3\\lib\\site-packages (from matplotlib->catboost) (2020.6.20)\n",
      "Requirement already satisfied: cycler>=0.10 in c:\\users\\berka\\anaconda3\\lib\\site-packages (from matplotlib->catboost) (0.10.0)\n",
      "Requirement already satisfied: pytz>=2017.2 in c:\\users\\berka\\anaconda3\\lib\\site-packages (from pandas>=0.24.0->catboost) (2020.1)\n",
      "Requirement already satisfied: retrying>=1.3.3 in c:\\users\\berka\\anaconda3\\lib\\site-packages (from plotly->catboost) (1.3.3)\n"
     ]
    }
   ],
   "source": [
    "!pip install catboost"
   ]
  },
  {
   "cell_type": "code",
   "execution_count": 6,
   "metadata": {},
   "outputs": [],
   "source": [
    "from xgboost import XGBRegressor"
   ]
  },
  {
   "cell_type": "code",
   "execution_count": 8,
   "metadata": {},
   "outputs": [],
   "source": [
    "from lightgbm import LGBMRegressor\n",
    "from catboost import CatBoostRegressor"
   ]
  },
  {
   "cell_type": "code",
   "execution_count": 2,
   "metadata": {},
   "outputs": [],
   "source": [
    "df=pd.read_csv(\"C:\\\\Users\\\\berka\\\\Desktop\\\\Dersler\\\\Machine Learning\\\\Practice_week1\\\\vehicles.csv\")"
   ]
  },
  {
   "cell_type": "code",
   "execution_count": 12,
   "metadata": {},
   "outputs": [
    {
     "data": {
      "text/html": [
       "<div>\n",
       "<style scoped>\n",
       "    .dataframe tbody tr th:only-of-type {\n",
       "        vertical-align: middle;\n",
       "    }\n",
       "\n",
       "    .dataframe tbody tr th {\n",
       "        vertical-align: top;\n",
       "    }\n",
       "\n",
       "    .dataframe thead th {\n",
       "        text-align: right;\n",
       "    }\n",
       "</style>\n",
       "<table border=\"1\" class=\"dataframe\">\n",
       "  <thead>\n",
       "    <tr style=\"text-align: right;\">\n",
       "      <th></th>\n",
       "      <th>Unnamed: 0</th>\n",
       "      <th>id</th>\n",
       "      <th>url</th>\n",
       "      <th>region</th>\n",
       "      <th>region_url</th>\n",
       "      <th>price</th>\n",
       "      <th>year</th>\n",
       "      <th>manufacturer</th>\n",
       "      <th>model</th>\n",
       "      <th>condition</th>\n",
       "      <th>...</th>\n",
       "      <th>drive</th>\n",
       "      <th>size</th>\n",
       "      <th>type</th>\n",
       "      <th>paint_color</th>\n",
       "      <th>image_url</th>\n",
       "      <th>description</th>\n",
       "      <th>state</th>\n",
       "      <th>lat</th>\n",
       "      <th>long</th>\n",
       "      <th>posting_date</th>\n",
       "    </tr>\n",
       "  </thead>\n",
       "  <tbody>\n",
       "    <tr>\n",
       "      <th>0</th>\n",
       "      <td>0</td>\n",
       "      <td>7240372487</td>\n",
       "      <td>https://auburn.craigslist.org/ctd/d/auburn-uni...</td>\n",
       "      <td>auburn</td>\n",
       "      <td>https://auburn.craigslist.org</td>\n",
       "      <td>35990</td>\n",
       "      <td>2010.0</td>\n",
       "      <td>chevrolet</td>\n",
       "      <td>corvette grand sport</td>\n",
       "      <td>good</td>\n",
       "      <td>...</td>\n",
       "      <td>rwd</td>\n",
       "      <td>NaN</td>\n",
       "      <td>other</td>\n",
       "      <td>NaN</td>\n",
       "      <td>https://images.craigslist.org/00N0N_ipkbHVZYf4...</td>\n",
       "      <td>Carvana is the safer way to buy a car During t...</td>\n",
       "      <td>al</td>\n",
       "      <td>32.590000</td>\n",
       "      <td>-85.480000</td>\n",
       "      <td>2020-12-02T08:11:30-0600</td>\n",
       "    </tr>\n",
       "    <tr>\n",
       "      <th>1</th>\n",
       "      <td>1</td>\n",
       "      <td>7240309422</td>\n",
       "      <td>https://auburn.craigslist.org/cto/d/auburn-201...</td>\n",
       "      <td>auburn</td>\n",
       "      <td>https://auburn.craigslist.org</td>\n",
       "      <td>7500</td>\n",
       "      <td>2014.0</td>\n",
       "      <td>hyundai</td>\n",
       "      <td>sonata</td>\n",
       "      <td>excellent</td>\n",
       "      <td>...</td>\n",
       "      <td>fwd</td>\n",
       "      <td>NaN</td>\n",
       "      <td>sedan</td>\n",
       "      <td>NaN</td>\n",
       "      <td>https://images.craigslist.org/00s0s_gBHYmJ5o7y...</td>\n",
       "      <td>I'll move to another city and try to sell my c...</td>\n",
       "      <td>al</td>\n",
       "      <td>32.547500</td>\n",
       "      <td>-85.468200</td>\n",
       "      <td>2020-12-02T02:11:50-0600</td>\n",
       "    </tr>\n",
       "    <tr>\n",
       "      <th>2</th>\n",
       "      <td>2</td>\n",
       "      <td>7240224296</td>\n",
       "      <td>https://auburn.craigslist.org/cto/d/auburn-200...</td>\n",
       "      <td>auburn</td>\n",
       "      <td>https://auburn.craigslist.org</td>\n",
       "      <td>4900</td>\n",
       "      <td>2006.0</td>\n",
       "      <td>bmw</td>\n",
       "      <td>x3 3.0i</td>\n",
       "      <td>good</td>\n",
       "      <td>...</td>\n",
       "      <td>NaN</td>\n",
       "      <td>NaN</td>\n",
       "      <td>SUV</td>\n",
       "      <td>blue</td>\n",
       "      <td>https://images.craigslist.org/00B0B_5zgEGWPOrt...</td>\n",
       "      <td>Clean 2006 BMW X3 3.0I.  Beautiful and rare Bl...</td>\n",
       "      <td>al</td>\n",
       "      <td>32.616807</td>\n",
       "      <td>-85.464149</td>\n",
       "      <td>2020-12-01T19:50:41-0600</td>\n",
       "    </tr>\n",
       "    <tr>\n",
       "      <th>3</th>\n",
       "      <td>3</td>\n",
       "      <td>7240103965</td>\n",
       "      <td>https://auburn.craigslist.org/cto/d/lanett-tru...</td>\n",
       "      <td>auburn</td>\n",
       "      <td>https://auburn.craigslist.org</td>\n",
       "      <td>2000</td>\n",
       "      <td>1974.0</td>\n",
       "      <td>chevrolet</td>\n",
       "      <td>c-10</td>\n",
       "      <td>good</td>\n",
       "      <td>...</td>\n",
       "      <td>rwd</td>\n",
       "      <td>full-size</td>\n",
       "      <td>pickup</td>\n",
       "      <td>blue</td>\n",
       "      <td>https://images.craigslist.org/00M0M_6o7KcDpArw...</td>\n",
       "      <td>1974 chev. truck (LONG BED) NEW starter front ...</td>\n",
       "      <td>al</td>\n",
       "      <td>32.861600</td>\n",
       "      <td>-85.216100</td>\n",
       "      <td>2020-12-01T15:54:45-0600</td>\n",
       "    </tr>\n",
       "    <tr>\n",
       "      <th>4</th>\n",
       "      <td>4</td>\n",
       "      <td>7239983776</td>\n",
       "      <td>https://auburn.craigslist.org/cto/d/auburn-200...</td>\n",
       "      <td>auburn</td>\n",
       "      <td>https://auburn.craigslist.org</td>\n",
       "      <td>19500</td>\n",
       "      <td>2005.0</td>\n",
       "      <td>ford</td>\n",
       "      <td>f350 lariat</td>\n",
       "      <td>excellent</td>\n",
       "      <td>...</td>\n",
       "      <td>4wd</td>\n",
       "      <td>full-size</td>\n",
       "      <td>pickup</td>\n",
       "      <td>blue</td>\n",
       "      <td>https://images.craigslist.org/00p0p_b95l1EgUfl...</td>\n",
       "      <td>2005 Ford F350 Lariat (Bullet Proofed). This t...</td>\n",
       "      <td>al</td>\n",
       "      <td>32.547500</td>\n",
       "      <td>-85.468200</td>\n",
       "      <td>2020-12-01T12:53:56-0600</td>\n",
       "    </tr>\n",
       "    <tr>\n",
       "      <th>...</th>\n",
       "      <td>...</td>\n",
       "      <td>...</td>\n",
       "      <td>...</td>\n",
       "      <td>...</td>\n",
       "      <td>...</td>\n",
       "      <td>...</td>\n",
       "      <td>...</td>\n",
       "      <td>...</td>\n",
       "      <td>...</td>\n",
       "      <td>...</td>\n",
       "      <td>...</td>\n",
       "      <td>...</td>\n",
       "      <td>...</td>\n",
       "      <td>...</td>\n",
       "      <td>...</td>\n",
       "      <td>...</td>\n",
       "      <td>...</td>\n",
       "      <td>...</td>\n",
       "      <td>...</td>\n",
       "      <td>...</td>\n",
       "      <td>...</td>\n",
       "    </tr>\n",
       "    <tr>\n",
       "      <th>458208</th>\n",
       "      <td>458208</td>\n",
       "      <td>7240959076</td>\n",
       "      <td>https://wausau.craigslist.org/ctd/d/wisconsin-...</td>\n",
       "      <td>wausau</td>\n",
       "      <td>https://wausau.craigslist.org</td>\n",
       "      <td>14995</td>\n",
       "      <td>2014.0</td>\n",
       "      <td>cadillac</td>\n",
       "      <td>srx</td>\n",
       "      <td>excellent</td>\n",
       "      <td>...</td>\n",
       "      <td>4wd</td>\n",
       "      <td>mid-size</td>\n",
       "      <td>SUV</td>\n",
       "      <td>silver</td>\n",
       "      <td>https://images.craigslist.org/00808_1bVcaYZtCy...</td>\n",
       "      <td>2014 Cadillac SRX All Wheel Drive Luxury Colle...</td>\n",
       "      <td>wi</td>\n",
       "      <td>44.408867</td>\n",
       "      <td>-89.881210</td>\n",
       "      <td>2020-12-03T08:56:29-0600</td>\n",
       "    </tr>\n",
       "    <tr>\n",
       "      <th>458209</th>\n",
       "      <td>458209</td>\n",
       "      <td>7240954682</td>\n",
       "      <td>https://wausau.craigslist.org/ctd/d/wisconsin-...</td>\n",
       "      <td>wausau</td>\n",
       "      <td>https://wausau.craigslist.org</td>\n",
       "      <td>17895</td>\n",
       "      <td>2018.0</td>\n",
       "      <td>hyundai</td>\n",
       "      <td>tucson</td>\n",
       "      <td>excellent</td>\n",
       "      <td>...</td>\n",
       "      <td>4wd</td>\n",
       "      <td>mid-size</td>\n",
       "      <td>SUV</td>\n",
       "      <td>white</td>\n",
       "      <td>https://images.craigslist.org/00l0l_gikkP11dEF...</td>\n",
       "      <td>2018 Hyundai Tucson SE 2.0 I4 AWD.  Carfax ver...</td>\n",
       "      <td>wi</td>\n",
       "      <td>44.408867</td>\n",
       "      <td>-89.882240</td>\n",
       "      <td>2020-12-03T08:48:08-0600</td>\n",
       "    </tr>\n",
       "    <tr>\n",
       "      <th>458210</th>\n",
       "      <td>458210</td>\n",
       "      <td>7240645700</td>\n",
       "      <td>https://wyoming.craigslist.org/cto/d/sheridan-...</td>\n",
       "      <td>wyoming</td>\n",
       "      <td>https://wyoming.craigslist.org</td>\n",
       "      <td>17900</td>\n",
       "      <td>2014.0</td>\n",
       "      <td>cadillac</td>\n",
       "      <td>cts coupe awd</td>\n",
       "      <td>excellent</td>\n",
       "      <td>...</td>\n",
       "      <td>4wd</td>\n",
       "      <td>mid-size</td>\n",
       "      <td>coupe</td>\n",
       "      <td>black</td>\n",
       "      <td>https://images.craigslist.org/00t0t_lNnW4cboOG...</td>\n",
       "      <td>53,000 miles. Cosmetically, in near mint condi...</td>\n",
       "      <td>wy</td>\n",
       "      <td>44.784900</td>\n",
       "      <td>-106.964800</td>\n",
       "      <td>2020-12-02T14:09:45-0700</td>\n",
       "    </tr>\n",
       "    <tr>\n",
       "      <th>458211</th>\n",
       "      <td>458211</td>\n",
       "      <td>7240600465</td>\n",
       "      <td>https://wyoming.craigslist.org/cto/d/sheridan-...</td>\n",
       "      <td>wyoming</td>\n",
       "      <td>https://wyoming.craigslist.org</td>\n",
       "      <td>1300</td>\n",
       "      <td>2008.0</td>\n",
       "      <td>jeep</td>\n",
       "      <td>grand cherokee</td>\n",
       "      <td>good</td>\n",
       "      <td>...</td>\n",
       "      <td>4wd</td>\n",
       "      <td>mid-size</td>\n",
       "      <td>SUV</td>\n",
       "      <td>white</td>\n",
       "      <td>https://images.craigslist.org/00C0C_fl0NW1IeJw...</td>\n",
       "      <td>PRICE REDUCTION  Turns out the engine is toast...</td>\n",
       "      <td>wy</td>\n",
       "      <td>44.773500</td>\n",
       "      <td>-106.939600</td>\n",
       "      <td>2020-12-02T13:01:04-0700</td>\n",
       "    </tr>\n",
       "    <tr>\n",
       "      <th>458212</th>\n",
       "      <td>458212</td>\n",
       "      <td>7240562359</td>\n",
       "      <td>https://wyoming.craigslist.org/ctd/d/gilberts-...</td>\n",
       "      <td>wyoming</td>\n",
       "      <td>https://wyoming.craigslist.org</td>\n",
       "      <td>22900</td>\n",
       "      <td>2008.0</td>\n",
       "      <td>NaN</td>\n",
       "      <td>International 4300</td>\n",
       "      <td>NaN</td>\n",
       "      <td>...</td>\n",
       "      <td>NaN</td>\n",
       "      <td>NaN</td>\n",
       "      <td>NaN</td>\n",
       "      <td>NaN</td>\n",
       "      <td>https://images.craigslist.org/00k0k_77qSSp6sQC...</td>\n",
       "      <td>*** SHIPPING AVAILABLE DIRECTLY TO YOU. CALL F...</td>\n",
       "      <td>wy</td>\n",
       "      <td>42.117656</td>\n",
       "      <td>-88.436954</td>\n",
       "      <td>2020-12-02T12:03:45-0700</td>\n",
       "    </tr>\n",
       "  </tbody>\n",
       "</table>\n",
       "<p>458213 rows × 26 columns</p>\n",
       "</div>"
      ],
      "text/plain": [
       "        Unnamed: 0          id  \\\n",
       "0                0  7240372487   \n",
       "1                1  7240309422   \n",
       "2                2  7240224296   \n",
       "3                3  7240103965   \n",
       "4                4  7239983776   \n",
       "...            ...         ...   \n",
       "458208      458208  7240959076   \n",
       "458209      458209  7240954682   \n",
       "458210      458210  7240645700   \n",
       "458211      458211  7240600465   \n",
       "458212      458212  7240562359   \n",
       "\n",
       "                                                      url   region  \\\n",
       "0       https://auburn.craigslist.org/ctd/d/auburn-uni...   auburn   \n",
       "1       https://auburn.craigslist.org/cto/d/auburn-201...   auburn   \n",
       "2       https://auburn.craigslist.org/cto/d/auburn-200...   auburn   \n",
       "3       https://auburn.craigslist.org/cto/d/lanett-tru...   auburn   \n",
       "4       https://auburn.craigslist.org/cto/d/auburn-200...   auburn   \n",
       "...                                                   ...      ...   \n",
       "458208  https://wausau.craigslist.org/ctd/d/wisconsin-...   wausau   \n",
       "458209  https://wausau.craigslist.org/ctd/d/wisconsin-...   wausau   \n",
       "458210  https://wyoming.craigslist.org/cto/d/sheridan-...  wyoming   \n",
       "458211  https://wyoming.craigslist.org/cto/d/sheridan-...  wyoming   \n",
       "458212  https://wyoming.craigslist.org/ctd/d/gilberts-...  wyoming   \n",
       "\n",
       "                            region_url  price    year manufacturer  \\\n",
       "0        https://auburn.craigslist.org  35990  2010.0    chevrolet   \n",
       "1        https://auburn.craigslist.org   7500  2014.0      hyundai   \n",
       "2        https://auburn.craigslist.org   4900  2006.0          bmw   \n",
       "3        https://auburn.craigslist.org   2000  1974.0    chevrolet   \n",
       "4        https://auburn.craigslist.org  19500  2005.0         ford   \n",
       "...                                ...    ...     ...          ...   \n",
       "458208   https://wausau.craigslist.org  14995  2014.0     cadillac   \n",
       "458209   https://wausau.craigslist.org  17895  2018.0      hyundai   \n",
       "458210  https://wyoming.craigslist.org  17900  2014.0     cadillac   \n",
       "458211  https://wyoming.craigslist.org   1300  2008.0         jeep   \n",
       "458212  https://wyoming.craigslist.org  22900  2008.0          NaN   \n",
       "\n",
       "                       model  condition  ... drive       size    type  \\\n",
       "0       corvette grand sport       good  ...   rwd        NaN   other   \n",
       "1                     sonata  excellent  ...   fwd        NaN   sedan   \n",
       "2                    x3 3.0i       good  ...   NaN        NaN     SUV   \n",
       "3                       c-10       good  ...   rwd  full-size  pickup   \n",
       "4                f350 lariat  excellent  ...   4wd  full-size  pickup   \n",
       "...                      ...        ...  ...   ...        ...     ...   \n",
       "458208                   srx  excellent  ...   4wd   mid-size     SUV   \n",
       "458209                tucson  excellent  ...   4wd   mid-size     SUV   \n",
       "458210         cts coupe awd  excellent  ...   4wd   mid-size   coupe   \n",
       "458211        grand cherokee       good  ...   4wd   mid-size     SUV   \n",
       "458212    International 4300        NaN  ...   NaN        NaN     NaN   \n",
       "\n",
       "       paint_color                                          image_url  \\\n",
       "0              NaN  https://images.craigslist.org/00N0N_ipkbHVZYf4...   \n",
       "1              NaN  https://images.craigslist.org/00s0s_gBHYmJ5o7y...   \n",
       "2             blue  https://images.craigslist.org/00B0B_5zgEGWPOrt...   \n",
       "3             blue  https://images.craigslist.org/00M0M_6o7KcDpArw...   \n",
       "4             blue  https://images.craigslist.org/00p0p_b95l1EgUfl...   \n",
       "...            ...                                                ...   \n",
       "458208      silver  https://images.craigslist.org/00808_1bVcaYZtCy...   \n",
       "458209       white  https://images.craigslist.org/00l0l_gikkP11dEF...   \n",
       "458210       black  https://images.craigslist.org/00t0t_lNnW4cboOG...   \n",
       "458211       white  https://images.craigslist.org/00C0C_fl0NW1IeJw...   \n",
       "458212         NaN  https://images.craigslist.org/00k0k_77qSSp6sQC...   \n",
       "\n",
       "                                              description state        lat  \\\n",
       "0       Carvana is the safer way to buy a car During t...    al  32.590000   \n",
       "1       I'll move to another city and try to sell my c...    al  32.547500   \n",
       "2       Clean 2006 BMW X3 3.0I.  Beautiful and rare Bl...    al  32.616807   \n",
       "3       1974 chev. truck (LONG BED) NEW starter front ...    al  32.861600   \n",
       "4       2005 Ford F350 Lariat (Bullet Proofed). This t...    al  32.547500   \n",
       "...                                                   ...   ...        ...   \n",
       "458208  2014 Cadillac SRX All Wheel Drive Luxury Colle...    wi  44.408867   \n",
       "458209  2018 Hyundai Tucson SE 2.0 I4 AWD.  Carfax ver...    wi  44.408867   \n",
       "458210  53,000 miles. Cosmetically, in near mint condi...    wy  44.784900   \n",
       "458211  PRICE REDUCTION  Turns out the engine is toast...    wy  44.773500   \n",
       "458212  *** SHIPPING AVAILABLE DIRECTLY TO YOU. CALL F...    wy  42.117656   \n",
       "\n",
       "              long              posting_date  \n",
       "0       -85.480000  2020-12-02T08:11:30-0600  \n",
       "1       -85.468200  2020-12-02T02:11:50-0600  \n",
       "2       -85.464149  2020-12-01T19:50:41-0600  \n",
       "3       -85.216100  2020-12-01T15:54:45-0600  \n",
       "4       -85.468200  2020-12-01T12:53:56-0600  \n",
       "...            ...                       ...  \n",
       "458208  -89.881210  2020-12-03T08:56:29-0600  \n",
       "458209  -89.882240  2020-12-03T08:48:08-0600  \n",
       "458210 -106.964800  2020-12-02T14:09:45-0700  \n",
       "458211 -106.939600  2020-12-02T13:01:04-0700  \n",
       "458212  -88.436954  2020-12-02T12:03:45-0700  \n",
       "\n",
       "[458213 rows x 26 columns]"
      ]
     },
     "execution_count": 12,
     "metadata": {},
     "output_type": "execute_result"
    }
   ],
   "source": [
    "df"
   ]
  },
  {
   "cell_type": "code",
   "execution_count": 3,
   "metadata": {},
   "outputs": [],
   "source": [
    "df=df.iloc[:,5:17]\n",
    "df.dropna(inplace=True)\n",
    "q1=df.price.quantile(0.25)\n",
    "q3=df.price.quantile(0.75)\n",
    "iqr=q3-q1\n",
    "low_limit=q1-(1.5*iqr)\n",
    "up_limit=q3+(1.5*iqr)\n",
    "vector= df.price <= up_limit\n",
    "df=df[vector]"
   ]
  },
  {
   "cell_type": "code",
   "execution_count": 4,
   "metadata": {},
   "outputs": [
    {
     "name": "stderr",
     "output_type": "stream",
     "text": [
      "<ipython-input-4-1a56704e1093>:16: SettingWithCopyWarning: \n",
      "A value is trying to be set on a copy of a slice from a DataFrame.\n",
      "Try using .loc[row_indexer,col_indexer] = value instead\n",
      "\n",
      "See the caveats in the documentation: https://pandas.pydata.org/pandas-docs/stable/user_guide/indexing.html#returning-a-view-versus-a-copy\n",
      "  df[\"age\"]=2020-df.year\n"
     ]
    }
   ],
   "source": [
    "df1=pd.get_dummies(df,columns=[\"manufacturer\",\"condition\",\"cylinders\",\"fuel\",\"title_status\",\"transmission\",\"drive\"])\n",
    "df1.drop([\"model\",\"VIN\"],axis=1,inplace=True)\n",
    "from sklearn.neighbors import LocalOutlierFactor\n",
    "lof=LocalOutlierFactor()\n",
    "lof.fit_predict(df1)\n",
    "df1_scores=lof.negative_outlier_factor_\n",
    "\n",
    "sortedsc=np.sort(df1_scores)\n",
    "\n",
    "limit=df1_scores.mean()\n",
    "\n",
    "vector=df1_scores >= limit\n",
    "\n",
    "df=df1[vector]\n",
    "\n",
    "df[\"age\"]=2020-df.year\n",
    "x=df.drop(\"price\",axis=1)\n",
    "y=df[[\"price\"]]\n",
    "x_train,x_test,y_train,y_test=train_test_split(x,y,test_size=0.20)"
   ]
  },
  {
   "cell_type": "code",
   "execution_count": 5,
   "metadata": {},
   "outputs": [],
   "source": [
    "x_train=x_train.drop(\"year\",axis=1)"
   ]
  },
  {
   "cell_type": "code",
   "execution_count": 6,
   "metadata": {},
   "outputs": [],
   "source": [
    "x_test=x_test.drop(\"year\",axis=1)"
   ]
  },
  {
   "cell_type": "code",
   "execution_count": null,
   "metadata": {},
   "outputs": [
    {
     "name": "stdout",
     "output_type": "stream",
     "text": [
      "LGBMRegressor algoritmasının RMSE test değeri: 6052.844909798256\n",
      "XGBRegressor algoritmasının RMSE test değeri: 5686.887185821401\n"
     ]
    },
    {
     "name": "stderr",
     "output_type": "stream",
     "text": [
      "C:\\Users\\berka\\anaconda3\\lib\\site-packages\\sklearn\\utils\\validation.py:72: DataConversionWarning: A column-vector y was passed when a 1d array was expected. Please change the shape of y to (n_samples, ), for example using ravel().\n",
      "  return f(**kwargs)\n"
     ]
    },
    {
     "name": "stdout",
     "output_type": "stream",
     "text": [
      "GradientBoostingRegressor algoritmasının RMSE test değeri: 6826.017598129586\n"
     ]
    },
    {
     "name": "stderr",
     "output_type": "stream",
     "text": [
      "<ipython-input-36-8401a53b42ec>:11: DataConversionWarning: A column-vector y was passed when a 1d array was expected. Please change the shape of y to (n_samples,), for example using ravel().\n",
      "  model=alg().fit(x_train,y_train)\n"
     ]
    },
    {
     "name": "stdout",
     "output_type": "stream",
     "text": [
      "RandomForestRegressor algoritmasının RMSE test değeri: 4460.910510647916\n",
      "DecisionTreeRegressor algoritmasının RMSE test değeri: 5602.631059930077\n"
     ]
    },
    {
     "name": "stderr",
     "output_type": "stream",
     "text": [
      "C:\\Users\\berka\\anaconda3\\lib\\site-packages\\sklearn\\utils\\validation.py:72: DataConversionWarning: A column-vector y was passed when a 1d array was expected. Please change the shape of y to (n_samples, ), for example using ravel().\n",
      "  return f(**kwargs)\n"
     ]
    },
    {
     "name": "stdout",
     "output_type": "stream",
     "text": [
      "MLPRegressor algoritmasının RMSE test değeri: 173251.19119551298\n",
      "KNeighborsRegressor algoritmasının RMSE test değeri: 7405.26932916777\n"
     ]
    },
    {
     "name": "stderr",
     "output_type": "stream",
     "text": [
      "C:\\Users\\berka\\anaconda3\\lib\\site-packages\\sklearn\\utils\\validation.py:72: DataConversionWarning: A column-vector y was passed when a 1d array was expected. Please change the shape of y to (n_samples, ), for example using ravel().\n",
      "  return f(**kwargs)\n"
     ]
    }
   ],
   "source": [
    "models = [LGBMRegressor, \n",
    "          XGBRegressor, \n",
    "          GradientBoostingRegressor, \n",
    "          RandomForestRegressor, \n",
    "          DecisionTreeRegressor,\n",
    "          MLPRegressor,\n",
    "          KNeighborsRegressor, \n",
    "          SVR]\n",
    "\n",
    "def otoml(x_train,y_train,x_test,y_test,alg):\n",
    "    model=alg().fit(x_train,y_train)\n",
    "    rmse=np.sqrt(mean_squared_error(y_test,model.predict(x_test)))\n",
    "    print(alg.__name__,\"algoritmasının RMSE test değeri:\",rmse)\n",
    "\n",
    "for alg in models:\n",
    "    otoml(x_train,y_train,x_test,y_test,alg)"
   ]
  },
  {
   "cell_type": "code",
   "execution_count": 8,
   "metadata": {},
   "outputs": [
    {
     "name": "stderr",
     "output_type": "stream",
     "text": [
      "<ipython-input-8-6113ce86957f>:1: DataConversionWarning: A column-vector y was passed when a 1d array was expected. Please change the shape of y to (n_samples,), for example using ravel().\n",
      "  rf_model=RandomForestRegressor().fit(x_train,y_train)\n"
     ]
    },
    {
     "data": {
      "text/plain": [
       "0.979587435759272"
      ]
     },
     "execution_count": 8,
     "metadata": {},
     "output_type": "execute_result"
    }
   ],
   "source": [
    "rf_model=RandomForestRegressor().fit(x_train,y_train)\n",
    "rf_model.score(x_train,y_train)"
   ]
  },
  {
   "cell_type": "code",
   "execution_count": 7,
   "metadata": {},
   "outputs": [
    {
     "name": "stderr",
     "output_type": "stream",
     "text": [
      "<ipython-input-7-f49fb8132c39>:46: SettingWithCopyWarning: \n",
      "A value is trying to be set on a copy of a slice from a DataFrame.\n",
      "Try using .loc[row_indexer,col_indexer] = value instead\n",
      "\n",
      "See the caveats in the documentation: https://pandas.pydata.org/pandas-docs/stable/user_guide/indexing.html#returning-a-view-versus-a-copy\n",
      "  df[\"age\"]=2020-df.year\n"
     ]
    }
   ],
   "source": [
    "import numpy as np\n",
    "import pandas as pd \n",
    "from sklearn.model_selection import train_test_split, GridSearchCV\n",
    "from sklearn.metrics import mean_squared_error, r2_score\n",
    "import matplotlib.pyplot as plt\n",
    "from sklearn.preprocessing import scale \n",
    "from sklearn.preprocessing import StandardScaler\n",
    "from sklearn import model_selection\n",
    "from sklearn.linear_model import LinearRegression\n",
    "from sklearn.tree import DecisionTreeRegressor\n",
    "from sklearn.neighbors import KNeighborsRegressor\n",
    "from sklearn.neural_network import MLPRegressor\n",
    "from sklearn.ensemble import RandomForestRegressor\n",
    "from sklearn.ensemble import GradientBoostingRegressor\n",
    "from sklearn import neighbors\n",
    "from sklearn.svm import SVR\n",
    "\n",
    "\n",
    "df=pd.read_csv(\"C:\\\\Users\\\\berka\\\\Desktop\\\\Dersler\\\\Machine Learning\\\\Practice_week1\\\\vehicles.csv\")\n",
    "\n",
    "df=df.iloc[:,5:17]\n",
    "df.dropna(inplace=True)\n",
    "q1=df.price.quantile(0.25)\n",
    "q3=df.price.quantile(0.75)\n",
    "iqr=q3-q1\n",
    "low_limit=q1-(1.5*iqr)\n",
    "up_limit=q3+(1.5*iqr)\n",
    "vector= df.price <= up_limit\n",
    "df=df[vector]\n",
    "\n",
    "df1=pd.get_dummies(df,columns=[\"manufacturer\",\"condition\",\"cylinders\",\"fuel\",\"title_status\",\"transmission\",\"drive\"])\n",
    "df1.drop([\"model\",\"VIN\"],axis=1,inplace=True)\n",
    "from sklearn.neighbors import LocalOutlierFactor\n",
    "lof=LocalOutlierFactor()\n",
    "lof.fit_predict(df1)\n",
    "df1_scores=lof.negative_outlier_factor_\n",
    "\n",
    "sortedsc=np.sort(df1_scores)\n",
    "\n",
    "limit=df1_scores.mean()\n",
    "\n",
    "vector=df1_scores >= limit\n",
    "\n",
    "df=df1[vector]\n",
    "\n",
    "df[\"age\"]=2020-df.year\n",
    "x=df.drop(\"price\",axis=1)\n",
    "y=df[[\"price\"]]\n",
    "\n",
    "x_train,x_test,y_train,y_test=train_test_split(x,y,test_size=0.20)"
   ]
  },
  {
   "cell_type": "code",
   "execution_count": 8,
   "metadata": {},
   "outputs": [
    {
     "name": "stderr",
     "output_type": "stream",
     "text": [
      "C:\\Users\\berka\\anaconda3\\lib\\site-packages\\pandas\\core\\frame.py:4163: SettingWithCopyWarning: \n",
      "A value is trying to be set on a copy of a slice from a DataFrame\n",
      "\n",
      "See the caveats in the documentation: https://pandas.pydata.org/pandas-docs/stable/user_guide/indexing.html#returning-a-view-versus-a-copy\n",
      "  return super().drop(\n"
     ]
    }
   ],
   "source": [
    "x_train.drop(\"year\",axis=1,inplace=True)"
   ]
  },
  {
   "cell_type": "code",
   "execution_count": 9,
   "metadata": {},
   "outputs": [],
   "source": [
    "x_test.drop(\"year\",axis=1,inplace=True)"
   ]
  },
  {
   "cell_type": "code",
   "execution_count": 17,
   "metadata": {},
   "outputs": [
    {
     "data": {
      "text/html": [
       "<div>\n",
       "<style scoped>\n",
       "    .dataframe tbody tr th:only-of-type {\n",
       "        vertical-align: middle;\n",
       "    }\n",
       "\n",
       "    .dataframe tbody tr th {\n",
       "        vertical-align: top;\n",
       "    }\n",
       "\n",
       "    .dataframe thead th {\n",
       "        text-align: right;\n",
       "    }\n",
       "</style>\n",
       "<table border=\"1\" class=\"dataframe\">\n",
       "  <thead>\n",
       "    <tr style=\"text-align: right;\">\n",
       "      <th></th>\n",
       "      <th>odometer</th>\n",
       "      <th>manufacturer_acura</th>\n",
       "      <th>manufacturer_alfa-romeo</th>\n",
       "      <th>manufacturer_aston-martin</th>\n",
       "      <th>manufacturer_audi</th>\n",
       "      <th>manufacturer_bmw</th>\n",
       "      <th>manufacturer_buick</th>\n",
       "      <th>manufacturer_cadillac</th>\n",
       "      <th>manufacturer_chevrolet</th>\n",
       "      <th>manufacturer_chrysler</th>\n",
       "      <th>...</th>\n",
       "      <th>title_status_parts only</th>\n",
       "      <th>title_status_rebuilt</th>\n",
       "      <th>title_status_salvage</th>\n",
       "      <th>transmission_automatic</th>\n",
       "      <th>transmission_manual</th>\n",
       "      <th>transmission_other</th>\n",
       "      <th>drive_4wd</th>\n",
       "      <th>drive_fwd</th>\n",
       "      <th>drive_rwd</th>\n",
       "      <th>age</th>\n",
       "    </tr>\n",
       "  </thead>\n",
       "  <tbody>\n",
       "    <tr>\n",
       "      <th>399891</th>\n",
       "      <td>114750.0</td>\n",
       "      <td>0</td>\n",
       "      <td>0</td>\n",
       "      <td>0</td>\n",
       "      <td>0</td>\n",
       "      <td>0</td>\n",
       "      <td>0</td>\n",
       "      <td>0</td>\n",
       "      <td>0</td>\n",
       "      <td>0</td>\n",
       "      <td>...</td>\n",
       "      <td>0</td>\n",
       "      <td>0</td>\n",
       "      <td>0</td>\n",
       "      <td>1</td>\n",
       "      <td>0</td>\n",
       "      <td>0</td>\n",
       "      <td>0</td>\n",
       "      <td>1</td>\n",
       "      <td>0</td>\n",
       "      <td>10.0</td>\n",
       "    </tr>\n",
       "    <tr>\n",
       "      <th>110315</th>\n",
       "      <td>1474.0</td>\n",
       "      <td>0</td>\n",
       "      <td>0</td>\n",
       "      <td>0</td>\n",
       "      <td>0</td>\n",
       "      <td>0</td>\n",
       "      <td>0</td>\n",
       "      <td>0</td>\n",
       "      <td>0</td>\n",
       "      <td>0</td>\n",
       "      <td>...</td>\n",
       "      <td>0</td>\n",
       "      <td>0</td>\n",
       "      <td>0</td>\n",
       "      <td>0</td>\n",
       "      <td>0</td>\n",
       "      <td>1</td>\n",
       "      <td>0</td>\n",
       "      <td>0</td>\n",
       "      <td>1</td>\n",
       "      <td>1.0</td>\n",
       "    </tr>\n",
       "    <tr>\n",
       "      <th>149208</th>\n",
       "      <td>128000.0</td>\n",
       "      <td>0</td>\n",
       "      <td>0</td>\n",
       "      <td>0</td>\n",
       "      <td>0</td>\n",
       "      <td>0</td>\n",
       "      <td>0</td>\n",
       "      <td>0</td>\n",
       "      <td>0</td>\n",
       "      <td>0</td>\n",
       "      <td>...</td>\n",
       "      <td>0</td>\n",
       "      <td>0</td>\n",
       "      <td>0</td>\n",
       "      <td>1</td>\n",
       "      <td>0</td>\n",
       "      <td>0</td>\n",
       "      <td>1</td>\n",
       "      <td>0</td>\n",
       "      <td>0</td>\n",
       "      <td>9.0</td>\n",
       "    </tr>\n",
       "    <tr>\n",
       "      <th>8181</th>\n",
       "      <td>19449.0</td>\n",
       "      <td>0</td>\n",
       "      <td>0</td>\n",
       "      <td>0</td>\n",
       "      <td>1</td>\n",
       "      <td>0</td>\n",
       "      <td>0</td>\n",
       "      <td>0</td>\n",
       "      <td>0</td>\n",
       "      <td>0</td>\n",
       "      <td>...</td>\n",
       "      <td>0</td>\n",
       "      <td>0</td>\n",
       "      <td>0</td>\n",
       "      <td>1</td>\n",
       "      <td>0</td>\n",
       "      <td>0</td>\n",
       "      <td>1</td>\n",
       "      <td>0</td>\n",
       "      <td>0</td>\n",
       "      <td>1.0</td>\n",
       "    </tr>\n",
       "    <tr>\n",
       "      <th>223577</th>\n",
       "      <td>194089.0</td>\n",
       "      <td>0</td>\n",
       "      <td>0</td>\n",
       "      <td>0</td>\n",
       "      <td>0</td>\n",
       "      <td>0</td>\n",
       "      <td>0</td>\n",
       "      <td>0</td>\n",
       "      <td>0</td>\n",
       "      <td>0</td>\n",
       "      <td>...</td>\n",
       "      <td>0</td>\n",
       "      <td>0</td>\n",
       "      <td>0</td>\n",
       "      <td>1</td>\n",
       "      <td>0</td>\n",
       "      <td>0</td>\n",
       "      <td>0</td>\n",
       "      <td>1</td>\n",
       "      <td>0</td>\n",
       "      <td>10.0</td>\n",
       "    </tr>\n",
       "    <tr>\n",
       "      <th>...</th>\n",
       "      <td>...</td>\n",
       "      <td>...</td>\n",
       "      <td>...</td>\n",
       "      <td>...</td>\n",
       "      <td>...</td>\n",
       "      <td>...</td>\n",
       "      <td>...</td>\n",
       "      <td>...</td>\n",
       "      <td>...</td>\n",
       "      <td>...</td>\n",
       "      <td>...</td>\n",
       "      <td>...</td>\n",
       "      <td>...</td>\n",
       "      <td>...</td>\n",
       "      <td>...</td>\n",
       "      <td>...</td>\n",
       "      <td>...</td>\n",
       "      <td>...</td>\n",
       "      <td>...</td>\n",
       "      <td>...</td>\n",
       "      <td>...</td>\n",
       "    </tr>\n",
       "    <tr>\n",
       "      <th>141839</th>\n",
       "      <td>39253.0</td>\n",
       "      <td>0</td>\n",
       "      <td>0</td>\n",
       "      <td>0</td>\n",
       "      <td>0</td>\n",
       "      <td>0</td>\n",
       "      <td>0</td>\n",
       "      <td>0</td>\n",
       "      <td>0</td>\n",
       "      <td>0</td>\n",
       "      <td>...</td>\n",
       "      <td>0</td>\n",
       "      <td>0</td>\n",
       "      <td>0</td>\n",
       "      <td>1</td>\n",
       "      <td>0</td>\n",
       "      <td>0</td>\n",
       "      <td>1</td>\n",
       "      <td>0</td>\n",
       "      <td>0</td>\n",
       "      <td>6.0</td>\n",
       "    </tr>\n",
       "    <tr>\n",
       "      <th>139225</th>\n",
       "      <td>230342.0</td>\n",
       "      <td>0</td>\n",
       "      <td>0</td>\n",
       "      <td>0</td>\n",
       "      <td>0</td>\n",
       "      <td>0</td>\n",
       "      <td>0</td>\n",
       "      <td>0</td>\n",
       "      <td>0</td>\n",
       "      <td>0</td>\n",
       "      <td>...</td>\n",
       "      <td>0</td>\n",
       "      <td>0</td>\n",
       "      <td>0</td>\n",
       "      <td>1</td>\n",
       "      <td>0</td>\n",
       "      <td>0</td>\n",
       "      <td>0</td>\n",
       "      <td>1</td>\n",
       "      <td>0</td>\n",
       "      <td>11.0</td>\n",
       "    </tr>\n",
       "    <tr>\n",
       "      <th>96945</th>\n",
       "      <td>96373.0</td>\n",
       "      <td>0</td>\n",
       "      <td>0</td>\n",
       "      <td>0</td>\n",
       "      <td>0</td>\n",
       "      <td>0</td>\n",
       "      <td>0</td>\n",
       "      <td>0</td>\n",
       "      <td>0</td>\n",
       "      <td>0</td>\n",
       "      <td>...</td>\n",
       "      <td>0</td>\n",
       "      <td>0</td>\n",
       "      <td>0</td>\n",
       "      <td>1</td>\n",
       "      <td>0</td>\n",
       "      <td>0</td>\n",
       "      <td>0</td>\n",
       "      <td>1</td>\n",
       "      <td>0</td>\n",
       "      <td>12.0</td>\n",
       "    </tr>\n",
       "    <tr>\n",
       "      <th>155259</th>\n",
       "      <td>103000.0</td>\n",
       "      <td>0</td>\n",
       "      <td>0</td>\n",
       "      <td>0</td>\n",
       "      <td>0</td>\n",
       "      <td>0</td>\n",
       "      <td>0</td>\n",
       "      <td>0</td>\n",
       "      <td>0</td>\n",
       "      <td>0</td>\n",
       "      <td>...</td>\n",
       "      <td>0</td>\n",
       "      <td>0</td>\n",
       "      <td>0</td>\n",
       "      <td>1</td>\n",
       "      <td>0</td>\n",
       "      <td>0</td>\n",
       "      <td>0</td>\n",
       "      <td>1</td>\n",
       "      <td>0</td>\n",
       "      <td>9.0</td>\n",
       "    </tr>\n",
       "    <tr>\n",
       "      <th>148045</th>\n",
       "      <td>123000.0</td>\n",
       "      <td>0</td>\n",
       "      <td>0</td>\n",
       "      <td>0</td>\n",
       "      <td>0</td>\n",
       "      <td>0</td>\n",
       "      <td>0</td>\n",
       "      <td>0</td>\n",
       "      <td>1</td>\n",
       "      <td>0</td>\n",
       "      <td>...</td>\n",
       "      <td>0</td>\n",
       "      <td>0</td>\n",
       "      <td>0</td>\n",
       "      <td>1</td>\n",
       "      <td>0</td>\n",
       "      <td>0</td>\n",
       "      <td>0</td>\n",
       "      <td>1</td>\n",
       "      <td>0</td>\n",
       "      <td>11.0</td>\n",
       "    </tr>\n",
       "  </tbody>\n",
       "</table>\n",
       "<p>67544 rows × 73 columns</p>\n",
       "</div>"
      ],
      "text/plain": [
       "        odometer  manufacturer_acura  manufacturer_alfa-romeo  \\\n",
       "399891  114750.0                   0                        0   \n",
       "110315    1474.0                   0                        0   \n",
       "149208  128000.0                   0                        0   \n",
       "8181     19449.0                   0                        0   \n",
       "223577  194089.0                   0                        0   \n",
       "...          ...                 ...                      ...   \n",
       "141839   39253.0                   0                        0   \n",
       "139225  230342.0                   0                        0   \n",
       "96945    96373.0                   0                        0   \n",
       "155259  103000.0                   0                        0   \n",
       "148045  123000.0                   0                        0   \n",
       "\n",
       "        manufacturer_aston-martin  manufacturer_audi  manufacturer_bmw  \\\n",
       "399891                          0                  0                 0   \n",
       "110315                          0                  0                 0   \n",
       "149208                          0                  0                 0   \n",
       "8181                            0                  1                 0   \n",
       "223577                          0                  0                 0   \n",
       "...                           ...                ...               ...   \n",
       "141839                          0                  0                 0   \n",
       "139225                          0                  0                 0   \n",
       "96945                           0                  0                 0   \n",
       "155259                          0                  0                 0   \n",
       "148045                          0                  0                 0   \n",
       "\n",
       "        manufacturer_buick  manufacturer_cadillac  manufacturer_chevrolet  \\\n",
       "399891                   0                      0                       0   \n",
       "110315                   0                      0                       0   \n",
       "149208                   0                      0                       0   \n",
       "8181                     0                      0                       0   \n",
       "223577                   0                      0                       0   \n",
       "...                    ...                    ...                     ...   \n",
       "141839                   0                      0                       0   \n",
       "139225                   0                      0                       0   \n",
       "96945                    0                      0                       0   \n",
       "155259                   0                      0                       0   \n",
       "148045                   0                      0                       1   \n",
       "\n",
       "        manufacturer_chrysler  ...  title_status_parts only  \\\n",
       "399891                      0  ...                        0   \n",
       "110315                      0  ...                        0   \n",
       "149208                      0  ...                        0   \n",
       "8181                        0  ...                        0   \n",
       "223577                      0  ...                        0   \n",
       "...                       ...  ...                      ...   \n",
       "141839                      0  ...                        0   \n",
       "139225                      0  ...                        0   \n",
       "96945                       0  ...                        0   \n",
       "155259                      0  ...                        0   \n",
       "148045                      0  ...                        0   \n",
       "\n",
       "        title_status_rebuilt  title_status_salvage  transmission_automatic  \\\n",
       "399891                     0                     0                       1   \n",
       "110315                     0                     0                       0   \n",
       "149208                     0                     0                       1   \n",
       "8181                       0                     0                       1   \n",
       "223577                     0                     0                       1   \n",
       "...                      ...                   ...                     ...   \n",
       "141839                     0                     0                       1   \n",
       "139225                     0                     0                       1   \n",
       "96945                      0                     0                       1   \n",
       "155259                     0                     0                       1   \n",
       "148045                     0                     0                       1   \n",
       "\n",
       "        transmission_manual  transmission_other  drive_4wd  drive_fwd  \\\n",
       "399891                    0                   0          0          1   \n",
       "110315                    0                   1          0          0   \n",
       "149208                    0                   0          1          0   \n",
       "8181                      0                   0          1          0   \n",
       "223577                    0                   0          0          1   \n",
       "...                     ...                 ...        ...        ...   \n",
       "141839                    0                   0          1          0   \n",
       "139225                    0                   0          0          1   \n",
       "96945                     0                   0          0          1   \n",
       "155259                    0                   0          0          1   \n",
       "148045                    0                   0          0          1   \n",
       "\n",
       "        drive_rwd   age  \n",
       "399891          0  10.0  \n",
       "110315          1   1.0  \n",
       "149208          0   9.0  \n",
       "8181            0   1.0  \n",
       "223577          0  10.0  \n",
       "...           ...   ...  \n",
       "141839          0   6.0  \n",
       "139225          0  11.0  \n",
       "96945           0  12.0  \n",
       "155259          0   9.0  \n",
       "148045          0  11.0  \n",
       "\n",
       "[67544 rows x 73 columns]"
      ]
     },
     "execution_count": 17,
     "metadata": {},
     "output_type": "execute_result"
    }
   ],
   "source": [
    "x_train"
   ]
  },
  {
   "cell_type": "code",
   "execution_count": 18,
   "metadata": {},
   "outputs": [
    {
     "name": "stderr",
     "output_type": "stream",
     "text": [
      "<ipython-input-18-e03ef7a1cb37>:1: DataConversionWarning: A column-vector y was passed when a 1d array was expected. Please change the shape of y to (n_samples,), for example using ravel().\n",
      "  rf_model=RandomForestRegressor().fit(x_train,y_train)\n"
     ]
    }
   ],
   "source": [
    "rf_model=RandomForestRegressor().fit(x_train,y_train)\n"
   ]
  },
  {
   "cell_type": "code",
   "execution_count": 10,
   "metadata": {},
   "outputs": [],
   "source": [
    "arry=np.array(y)"
   ]
  },
  {
   "cell_type": "code",
   "execution_count": 9,
   "metadata": {},
   "outputs": [
    {
     "name": "stdout",
     "output_type": "stream",
     "text": [
      "Fitting 5 folds for each of 18 candidates, totalling 90 fits\n"
     ]
    },
    {
     "name": "stderr",
     "output_type": "stream",
     "text": [
      "[Parallel(n_jobs=-1)]: Using backend LokyBackend with 8 concurrent workers.\n",
      "[Parallel(n_jobs=-1)]: Done  25 tasks      | elapsed: 33.4min\n",
      "[Parallel(n_jobs=-1)]: Done  90 out of  90 | elapsed: 88.0min finished\n",
      "C:\\Users\\berka\\anaconda3\\lib\\site-packages\\sklearn\\model_selection\\_search.py:765: DataConversionWarning: A column-vector y was passed when a 1d array was expected. Please change the shape of y to (n_samples,), for example using ravel().\n",
      "  self.best_estimator_.fit(X, y, **fit_params)\n"
     ]
    }
   ],
   "source": [
    "rf_params={\"n_estimators\":[100,500,2000],\n",
    "           \"max_depth\":[None,2],\n",
    "           \"min_samples_split\":[2,5,7]\n",
    "}\n",
    "rf_cv_model=GridSearchCV(rf_model,rf_params,cv=5,n_jobs=-1,verbose=2).fit(x_train,y_train)"
   ]
  },
  {
   "cell_type": "code",
   "execution_count": 10,
   "metadata": {},
   "outputs": [
    {
     "data": {
      "text/plain": [
       "{'max_depth': None, 'min_samples_split': 2, 'n_estimators': 500}"
      ]
     },
     "execution_count": 10,
     "metadata": {},
     "output_type": "execute_result"
    }
   ],
   "source": [
    "rf_cv_model.best_params_"
   ]
  },
  {
   "cell_type": "code",
   "execution_count": 12,
   "metadata": {},
   "outputs": [
    {
     "name": "stderr",
     "output_type": "stream",
     "text": [
      "<ipython-input-12-337975a2280b>:1: DataConversionWarning: A column-vector y was passed when a 1d array was expected. Please change the shape of y to (n_samples,), for example using ravel().\n",
      "  rf_tuned=RandomForestRegressor(min_samples_split=2,\n"
     ]
    }
   ],
   "source": [
    "rf_tuned=RandomForestRegressor(min_samples_split=2,\n",
    "                               n_estimators=500).fit(x_train,y_train)"
   ]
  },
  {
   "cell_type": "code",
   "execution_count": 13,
   "metadata": {},
   "outputs": [
    {
     "data": {
      "text/plain": [
       "4385.353638091472"
      ]
     },
     "execution_count": 13,
     "metadata": {},
     "output_type": "execute_result"
    }
   ],
   "source": [
    "y_pred=rf_tuned.predict(x_test)\n",
    "np.sqrt(mean_squared_error(y_test,y_pred))"
   ]
  },
  {
   "cell_type": "code",
   "execution_count": 14,
   "metadata": {},
   "outputs": [
    {
     "data": {
      "text/plain": [
       "0.8666120167533986"
      ]
     },
     "execution_count": 14,
     "metadata": {},
     "output_type": "execute_result"
    }
   ],
   "source": [
    "r2_score(y_test,y_pred)"
   ]
  },
  {
   "cell_type": "code",
   "execution_count": 15,
   "metadata": {},
   "outputs": [
    {
     "data": {
      "text/plain": [
       "0.8666120167533986"
      ]
     },
     "execution_count": 15,
     "metadata": {},
     "output_type": "execute_result"
    }
   ],
   "source": [
    "rf_tuned.score(x_test,y_test)"
   ]
  },
  {
   "cell_type": "code",
   "execution_count": 16,
   "metadata": {},
   "outputs": [
    {
     "data": {
      "text/plain": [
       "array([18283.734     ,  4015.042     , 19433.29166667, ...,\n",
       "        9004.02      , 10002.846     , 16778.144     ])"
      ]
     },
     "execution_count": 16,
     "metadata": {},
     "output_type": "execute_result"
    }
   ],
   "source": [
    "y_pred"
   ]
  },
  {
   "cell_type": "code",
   "execution_count": 19,
   "metadata": {},
   "outputs": [
    {
     "name": "stderr",
     "output_type": "stream",
     "text": [
      "<ipython-input-19-ceaa2fd0289c>:1: SettingWithCopyWarning: \n",
      "A value is trying to be set on a copy of a slice from a DataFrame.\n",
      "Try using .loc[row_indexer,col_indexer] = value instead\n",
      "\n",
      "See the caveats in the documentation: https://pandas.pydata.org/pandas-docs/stable/user_guide/indexing.html#returning-a-view-versus-a-copy\n",
      "  y_test[\"predicted\"]=y_pred\n"
     ]
    }
   ],
   "source": [
    "y_test[\"predicted\"]=y_pred"
   ]
  },
  {
   "cell_type": "code",
   "execution_count": 21,
   "metadata": {},
   "outputs": [
    {
     "name": "stderr",
     "output_type": "stream",
     "text": [
      "<ipython-input-21-e2133491d293>:1: SettingWithCopyWarning: \n",
      "A value is trying to be set on a copy of a slice from a DataFrame.\n",
      "Try using .loc[row_indexer,col_indexer] = value instead\n",
      "\n",
      "See the caveats in the documentation: https://pandas.pydata.org/pandas-docs/stable/user_guide/indexing.html#returning-a-view-versus-a-copy\n",
      "  y_test[\"error\"]=y_test.price-y_test.predicted\n"
     ]
    }
   ],
   "source": [
    "y_test[\"error\"]=y_test.price-y_test.predicted"
   ]
  },
  {
   "cell_type": "code",
   "execution_count": 22,
   "metadata": {},
   "outputs": [
    {
     "data": {
      "text/html": [
       "<div>\n",
       "<style scoped>\n",
       "    .dataframe tbody tr th:only-of-type {\n",
       "        vertical-align: middle;\n",
       "    }\n",
       "\n",
       "    .dataframe tbody tr th {\n",
       "        vertical-align: top;\n",
       "    }\n",
       "\n",
       "    .dataframe thead th {\n",
       "        text-align: right;\n",
       "    }\n",
       "</style>\n",
       "<table border=\"1\" class=\"dataframe\">\n",
       "  <thead>\n",
       "    <tr style=\"text-align: right;\">\n",
       "      <th></th>\n",
       "      <th>price</th>\n",
       "      <th>predicted</th>\n",
       "      <th>error</th>\n",
       "    </tr>\n",
       "  </thead>\n",
       "  <tbody>\n",
       "    <tr>\n",
       "      <th>272320</th>\n",
       "      <td>16995</td>\n",
       "      <td>18283.734000</td>\n",
       "      <td>-1288.734000</td>\n",
       "    </tr>\n",
       "    <tr>\n",
       "      <th>426853</th>\n",
       "      <td>4495</td>\n",
       "      <td>4015.042000</td>\n",
       "      <td>479.958000</td>\n",
       "    </tr>\n",
       "    <tr>\n",
       "      <th>190303</th>\n",
       "      <td>18450</td>\n",
       "      <td>19433.291667</td>\n",
       "      <td>-983.291667</td>\n",
       "    </tr>\n",
       "    <tr>\n",
       "      <th>76631</th>\n",
       "      <td>6288</td>\n",
       "      <td>5422.590000</td>\n",
       "      <td>865.410000</td>\n",
       "    </tr>\n",
       "    <tr>\n",
       "      <th>98932</th>\n",
       "      <td>1</td>\n",
       "      <td>1.000000</td>\n",
       "      <td>0.000000</td>\n",
       "    </tr>\n",
       "    <tr>\n",
       "      <th>...</th>\n",
       "      <td>...</td>\n",
       "      <td>...</td>\n",
       "      <td>...</td>\n",
       "    </tr>\n",
       "    <tr>\n",
       "      <th>403682</th>\n",
       "      <td>6800</td>\n",
       "      <td>3014.372000</td>\n",
       "      <td>3785.628000</td>\n",
       "    </tr>\n",
       "    <tr>\n",
       "      <th>269350</th>\n",
       "      <td>52990</td>\n",
       "      <td>52990.000000</td>\n",
       "      <td>0.000000</td>\n",
       "    </tr>\n",
       "    <tr>\n",
       "      <th>379082</th>\n",
       "      <td>8995</td>\n",
       "      <td>9004.020000</td>\n",
       "      <td>-9.020000</td>\n",
       "    </tr>\n",
       "    <tr>\n",
       "      <th>213936</th>\n",
       "      <td>11995</td>\n",
       "      <td>10002.846000</td>\n",
       "      <td>1992.154000</td>\n",
       "    </tr>\n",
       "    <tr>\n",
       "      <th>50338</th>\n",
       "      <td>16990</td>\n",
       "      <td>16778.144000</td>\n",
       "      <td>211.856000</td>\n",
       "    </tr>\n",
       "  </tbody>\n",
       "</table>\n",
       "<p>16887 rows × 3 columns</p>\n",
       "</div>"
      ],
      "text/plain": [
       "        price     predicted        error\n",
       "272320  16995  18283.734000 -1288.734000\n",
       "426853   4495   4015.042000   479.958000\n",
       "190303  18450  19433.291667  -983.291667\n",
       "76631    6288   5422.590000   865.410000\n",
       "98932       1      1.000000     0.000000\n",
       "...       ...           ...          ...\n",
       "403682   6800   3014.372000  3785.628000\n",
       "269350  52990  52990.000000     0.000000\n",
       "379082   8995   9004.020000    -9.020000\n",
       "213936  11995  10002.846000  1992.154000\n",
       "50338   16990  16778.144000   211.856000\n",
       "\n",
       "[16887 rows x 3 columns]"
      ]
     },
     "execution_count": 22,
     "metadata": {},
     "output_type": "execute_result"
    }
   ],
   "source": [
    "y_test"
   ]
  },
  {
   "cell_type": "code",
   "execution_count": 25,
   "metadata": {},
   "outputs": [
    {
     "data": {
      "text/plain": [
       "1679.0376607544372"
      ]
     },
     "execution_count": 25,
     "metadata": {},
     "output_type": "execute_result"
    }
   ],
   "source": [
    "np.sqrt(mean_squared_error(y_train,rf_tuned.predict(x_train)))"
   ]
  },
  {
   "cell_type": "code",
   "execution_count": 26,
   "metadata": {},
   "outputs": [],
   "source": [
    "train_predict=rf_tuned.predict(x_train)"
   ]
  },
  {
   "cell_type": "code",
   "execution_count": 27,
   "metadata": {},
   "outputs": [
    {
     "name": "stderr",
     "output_type": "stream",
     "text": [
      "<ipython-input-27-eb60c7b952fa>:1: SettingWithCopyWarning: \n",
      "A value is trying to be set on a copy of a slice from a DataFrame.\n",
      "Try using .loc[row_indexer,col_indexer] = value instead\n",
      "\n",
      "See the caveats in the documentation: https://pandas.pydata.org/pandas-docs/stable/user_guide/indexing.html#returning-a-view-versus-a-copy\n",
      "  y_train[\"predicted\"]=train_predict\n",
      "<ipython-input-27-eb60c7b952fa>:2: SettingWithCopyWarning: \n",
      "A value is trying to be set on a copy of a slice from a DataFrame.\n",
      "Try using .loc[row_indexer,col_indexer] = value instead\n",
      "\n",
      "See the caveats in the documentation: https://pandas.pydata.org/pandas-docs/stable/user_guide/indexing.html#returning-a-view-versus-a-copy\n",
      "  y_train[\"error\"]=y_train.price-y_train.predicted\n"
     ]
    }
   ],
   "source": [
    "y_train[\"predicted\"]=train_predict\n",
    "y_train[\"error\"]=y_train.price-y_train.predicted"
   ]
  },
  {
   "cell_type": "code",
   "execution_count": 28,
   "metadata": {},
   "outputs": [
    {
     "data": {
      "text/html": [
       "<div>\n",
       "<style scoped>\n",
       "    .dataframe tbody tr th:only-of-type {\n",
       "        vertical-align: middle;\n",
       "    }\n",
       "\n",
       "    .dataframe tbody tr th {\n",
       "        vertical-align: top;\n",
       "    }\n",
       "\n",
       "    .dataframe thead th {\n",
       "        text-align: right;\n",
       "    }\n",
       "</style>\n",
       "<table border=\"1\" class=\"dataframe\">\n",
       "  <thead>\n",
       "    <tr style=\"text-align: right;\">\n",
       "      <th></th>\n",
       "      <th>price</th>\n",
       "      <th>predicted</th>\n",
       "      <th>error</th>\n",
       "    </tr>\n",
       "  </thead>\n",
       "  <tbody>\n",
       "    <tr>\n",
       "      <th>311712</th>\n",
       "      <td>7995</td>\n",
       "      <td>8963.778000</td>\n",
       "      <td>-968.778000</td>\n",
       "    </tr>\n",
       "    <tr>\n",
       "      <th>144005</th>\n",
       "      <td>25990</td>\n",
       "      <td>24568.890000</td>\n",
       "      <td>1421.110000</td>\n",
       "    </tr>\n",
       "    <tr>\n",
       "      <th>58416</th>\n",
       "      <td>18000</td>\n",
       "      <td>18099.063351</td>\n",
       "      <td>-99.063351</td>\n",
       "    </tr>\n",
       "    <tr>\n",
       "      <th>317455</th>\n",
       "      <td>25900</td>\n",
       "      <td>25462.076000</td>\n",
       "      <td>437.924000</td>\n",
       "    </tr>\n",
       "    <tr>\n",
       "      <th>93092</th>\n",
       "      <td>7250</td>\n",
       "      <td>7542.537333</td>\n",
       "      <td>-292.537333</td>\n",
       "    </tr>\n",
       "    <tr>\n",
       "      <th>...</th>\n",
       "      <td>...</td>\n",
       "      <td>...</td>\n",
       "      <td>...</td>\n",
       "    </tr>\n",
       "    <tr>\n",
       "      <th>156443</th>\n",
       "      <td>5997</td>\n",
       "      <td>6339.340000</td>\n",
       "      <td>-342.340000</td>\n",
       "    </tr>\n",
       "    <tr>\n",
       "      <th>169809</th>\n",
       "      <td>6975</td>\n",
       "      <td>6202.374000</td>\n",
       "      <td>772.626000</td>\n",
       "    </tr>\n",
       "    <tr>\n",
       "      <th>121808</th>\n",
       "      <td>0</td>\n",
       "      <td>8001.470154</td>\n",
       "      <td>-8001.470154</td>\n",
       "    </tr>\n",
       "    <tr>\n",
       "      <th>175532</th>\n",
       "      <td>5500</td>\n",
       "      <td>5220.560000</td>\n",
       "      <td>279.440000</td>\n",
       "    </tr>\n",
       "    <tr>\n",
       "      <th>254270</th>\n",
       "      <td>5700</td>\n",
       "      <td>5731.956000</td>\n",
       "      <td>-31.956000</td>\n",
       "    </tr>\n",
       "  </tbody>\n",
       "</table>\n",
       "<p>67544 rows × 3 columns</p>\n",
       "</div>"
      ],
      "text/plain": [
       "        price     predicted        error\n",
       "311712   7995   8963.778000  -968.778000\n",
       "144005  25990  24568.890000  1421.110000\n",
       "58416   18000  18099.063351   -99.063351\n",
       "317455  25900  25462.076000   437.924000\n",
       "93092    7250   7542.537333  -292.537333\n",
       "...       ...           ...          ...\n",
       "156443   5997   6339.340000  -342.340000\n",
       "169809   6975   6202.374000   772.626000\n",
       "121808      0   8001.470154 -8001.470154\n",
       "175532   5500   5220.560000   279.440000\n",
       "254270   5700   5731.956000   -31.956000\n",
       "\n",
       "[67544 rows x 3 columns]"
      ]
     },
     "execution_count": 28,
     "metadata": {},
     "output_type": "execute_result"
    }
   ],
   "source": [
    "y_train"
   ]
  },
  {
   "cell_type": "code",
   "execution_count": 10,
   "metadata": {},
   "outputs": [],
   "source": [
    "df=df[df.price > 500]"
   ]
  },
  {
   "cell_type": "code",
   "execution_count": 11,
   "metadata": {},
   "outputs": [],
   "source": [
    "x=df.drop(\"price\",axis=1)\n",
    "y=df[\"price\"]\n",
    "x_train,x_test,y_train,y_test=train_test_split(x,y,test_size=0.20)"
   ]
  },
  {
   "cell_type": "code",
   "execution_count": 40,
   "metadata": {},
   "outputs": [],
   "source": [
    "rf_tuned=RandomForestRegressor(min_samples_split=2,\n",
    "                               n_estimators=500,).fit(x_train,y_train)"
   ]
  },
  {
   "cell_type": "code",
   "execution_count": 41,
   "metadata": {},
   "outputs": [],
   "source": [
    "y_pred=rf_tuned.predict(x_test)"
   ]
  },
  {
   "cell_type": "code",
   "execution_count": 42,
   "metadata": {},
   "outputs": [
    {
     "data": {
      "text/plain": [
       "3063.4770001960806"
      ]
     },
     "execution_count": 42,
     "metadata": {},
     "output_type": "execute_result"
    }
   ],
   "source": [
    "np.sqrt(mean_squared_error(y_test,y_pred))"
   ]
  },
  {
   "cell_type": "code",
   "execution_count": 43,
   "metadata": {},
   "outputs": [
    {
     "data": {
      "text/plain": [
       "1104.2021469985098"
      ]
     },
     "execution_count": 43,
     "metadata": {},
     "output_type": "execute_result"
    }
   ],
   "source": [
    "y_pred=rf_tuned.predict(x_train)\n",
    "np.sqrt(mean_squared_error(y_train,y_pred))"
   ]
  },
  {
   "cell_type": "code",
   "execution_count": 45,
   "metadata": {},
   "outputs": [
    {
     "data": {
      "text/plain": [
       "(0.9909546639814838, 0.9314353939069004)"
      ]
     },
     "execution_count": 45,
     "metadata": {},
     "output_type": "execute_result"
    }
   ],
   "source": [
    "rf_tuned.score(x_train,y_train),rf_tuned.score(x_test,y_test)"
   ]
  },
  {
   "cell_type": "code",
   "execution_count": 68,
   "metadata": {},
   "outputs": [
    {
     "data": {
      "text/plain": [
       "303318    23990\n",
       "452186    43999\n",
       "105595    14900\n",
       "10391     32990\n",
       "87661     23990\n",
       "          ...  \n",
       "107221    15990\n",
       "287463    31590\n",
       "397695    18695\n",
       "81696     30990\n",
       "169138     7290\n",
       "Name: price, Length: 63172, dtype: int64"
      ]
     },
     "execution_count": 68,
     "metadata": {},
     "output_type": "execute_result"
    }
   ],
   "source": [
    "y_train"
   ]
  },
  {
   "cell_type": "code",
   "execution_count": 77,
   "metadata": {},
   "outputs": [
    {
     "data": {
      "text/plain": [
       "303318    23990.000000\n",
       "452186    43091.164237\n",
       "105595    14543.896667\n",
       "10391     32248.736897\n",
       "87661     23990.000000\n",
       "              ...     \n",
       "107221    16001.552000\n",
       "287463    31590.000000\n",
       "397695    18703.838000\n",
       "81696     30990.000000\n",
       "169138     7353.426000\n",
       "Name: price, Length: 63172, dtype: float64"
      ]
     },
     "execution_count": 77,
     "metadata": {},
     "output_type": "execute_result"
    }
   ],
   "source": [
    "pd.Series(y_pred,index=y_train.index,name=\"price\")"
   ]
  },
  {
   "cell_type": "code",
   "execution_count": 72,
   "metadata": {},
   "outputs": [
    {
     "data": {
      "text/html": [
       "<div>\n",
       "<style scoped>\n",
       "    .dataframe tbody tr th:only-of-type {\n",
       "        vertical-align: middle;\n",
       "    }\n",
       "\n",
       "    .dataframe tbody tr th {\n",
       "        vertical-align: top;\n",
       "    }\n",
       "\n",
       "    .dataframe thead th {\n",
       "        text-align: right;\n",
       "    }\n",
       "</style>\n",
       "<table border=\"1\" class=\"dataframe\">\n",
       "  <thead>\n",
       "    <tr style=\"text-align: right;\">\n",
       "      <th></th>\n",
       "      <th>price</th>\n",
       "    </tr>\n",
       "  </thead>\n",
       "  <tbody>\n",
       "    <tr>\n",
       "      <th>303318</th>\n",
       "      <td>23990</td>\n",
       "    </tr>\n",
       "    <tr>\n",
       "      <th>452186</th>\n",
       "      <td>43999</td>\n",
       "    </tr>\n",
       "    <tr>\n",
       "      <th>105595</th>\n",
       "      <td>14900</td>\n",
       "    </tr>\n",
       "    <tr>\n",
       "      <th>10391</th>\n",
       "      <td>32990</td>\n",
       "    </tr>\n",
       "    <tr>\n",
       "      <th>87661</th>\n",
       "      <td>23990</td>\n",
       "    </tr>\n",
       "    <tr>\n",
       "      <th>...</th>\n",
       "      <td>...</td>\n",
       "    </tr>\n",
       "    <tr>\n",
       "      <th>107221</th>\n",
       "      <td>15990</td>\n",
       "    </tr>\n",
       "    <tr>\n",
       "      <th>287463</th>\n",
       "      <td>31590</td>\n",
       "    </tr>\n",
       "    <tr>\n",
       "      <th>397695</th>\n",
       "      <td>18695</td>\n",
       "    </tr>\n",
       "    <tr>\n",
       "      <th>81696</th>\n",
       "      <td>30990</td>\n",
       "    </tr>\n",
       "    <tr>\n",
       "      <th>169138</th>\n",
       "      <td>7290</td>\n",
       "    </tr>\n",
       "  </tbody>\n",
       "</table>\n",
       "<p>63172 rows × 1 columns</p>\n",
       "</div>"
      ],
      "text/plain": [
       "        price\n",
       "303318  23990\n",
       "452186  43999\n",
       "105595  14900\n",
       "10391   32990\n",
       "87661   23990\n",
       "...       ...\n",
       "107221  15990\n",
       "287463  31590\n",
       "397695  18695\n",
       "81696   30990\n",
       "169138   7290\n",
       "\n",
       "[63172 rows x 1 columns]"
      ]
     },
     "execution_count": 72,
     "metadata": {},
     "output_type": "execute_result"
    }
   ],
   "source": [
    "pd.DataFrame(data=[y_train]).T"
   ]
  },
  {
   "cell_type": "code",
   "execution_count": 73,
   "metadata": {},
   "outputs": [
    {
     "data": {
      "text/html": [
       "<div>\n",
       "<style scoped>\n",
       "    .dataframe tbody tr th:only-of-type {\n",
       "        vertical-align: middle;\n",
       "    }\n",
       "\n",
       "    .dataframe tbody tr th {\n",
       "        vertical-align: top;\n",
       "    }\n",
       "\n",
       "    .dataframe thead th {\n",
       "        text-align: right;\n",
       "    }\n",
       "</style>\n",
       "<table border=\"1\" class=\"dataframe\">\n",
       "  <thead>\n",
       "    <tr style=\"text-align: right;\">\n",
       "      <th></th>\n",
       "      <th>0</th>\n",
       "    </tr>\n",
       "  </thead>\n",
       "  <tbody>\n",
       "    <tr>\n",
       "      <th>0</th>\n",
       "      <td>23990.000000</td>\n",
       "    </tr>\n",
       "    <tr>\n",
       "      <th>1</th>\n",
       "      <td>43091.164237</td>\n",
       "    </tr>\n",
       "    <tr>\n",
       "      <th>2</th>\n",
       "      <td>14543.896667</td>\n",
       "    </tr>\n",
       "    <tr>\n",
       "      <th>3</th>\n",
       "      <td>32248.736897</td>\n",
       "    </tr>\n",
       "    <tr>\n",
       "      <th>4</th>\n",
       "      <td>23990.000000</td>\n",
       "    </tr>\n",
       "    <tr>\n",
       "      <th>...</th>\n",
       "      <td>...</td>\n",
       "    </tr>\n",
       "    <tr>\n",
       "      <th>63167</th>\n",
       "      <td>16001.552000</td>\n",
       "    </tr>\n",
       "    <tr>\n",
       "      <th>63168</th>\n",
       "      <td>31590.000000</td>\n",
       "    </tr>\n",
       "    <tr>\n",
       "      <th>63169</th>\n",
       "      <td>18703.838000</td>\n",
       "    </tr>\n",
       "    <tr>\n",
       "      <th>63170</th>\n",
       "      <td>30990.000000</td>\n",
       "    </tr>\n",
       "    <tr>\n",
       "      <th>63171</th>\n",
       "      <td>7353.426000</td>\n",
       "    </tr>\n",
       "  </tbody>\n",
       "</table>\n",
       "<p>63172 rows × 1 columns</p>\n",
       "</div>"
      ],
      "text/plain": [
       "                  0\n",
       "0      23990.000000\n",
       "1      43091.164237\n",
       "2      14543.896667\n",
       "3      32248.736897\n",
       "4      23990.000000\n",
       "...             ...\n",
       "63167  16001.552000\n",
       "63168  31590.000000\n",
       "63169  18703.838000\n",
       "63170  30990.000000\n",
       "63171   7353.426000\n",
       "\n",
       "[63172 rows x 1 columns]"
      ]
     },
     "execution_count": 73,
     "metadata": {},
     "output_type": "execute_result"
    }
   ],
   "source": [
    "pd.DataFrame(data=[y_pred]).T"
   ]
  },
  {
   "cell_type": "code",
   "execution_count": 86,
   "metadata": {},
   "outputs": [],
   "source": [
    "train_report=pd.concat([pd.DataFrame(data=[y_train]).T,pd.DataFrame(data=[pd.Series(y_pred,index=y_train.index,name=\"price\")]).T],axis=1)"
   ]
  },
  {
   "cell_type": "code",
   "execution_count": 87,
   "metadata": {},
   "outputs": [],
   "source": [
    "test_report=pd.concat([pd.DataFrame(data=[y_test]).T,pd.DataFrame(data=[pd.Series(rf_tuned.predict(x_test),index=y_test.index,name=\"price\")]).T],axis=1)"
   ]
  },
  {
   "cell_type": "code",
   "execution_count": 91,
   "metadata": {},
   "outputs": [],
   "source": [
    "train_report.columns=[\"train_true\",\"train_predict\"]"
   ]
  },
  {
   "cell_type": "code",
   "execution_count": 93,
   "metadata": {},
   "outputs": [],
   "source": [
    "test_report.columns=[\"test_true\",\"test_predict\"]"
   ]
  },
  {
   "cell_type": "code",
   "execution_count": 96,
   "metadata": {},
   "outputs": [],
   "source": [
    "train_report[\"erros\"]=train_report.train_true-train_report.train_predict"
   ]
  },
  {
   "cell_type": "code",
   "execution_count": 97,
   "metadata": {},
   "outputs": [],
   "source": [
    "test_report[\"erros\"]=test_report.test_true-test_report.test_predict"
   ]
  },
  {
   "cell_type": "code",
   "execution_count": 98,
   "metadata": {},
   "outputs": [
    {
     "data": {
      "text/html": [
       "<div>\n",
       "<style scoped>\n",
       "    .dataframe tbody tr th:only-of-type {\n",
       "        vertical-align: middle;\n",
       "    }\n",
       "\n",
       "    .dataframe tbody tr th {\n",
       "        vertical-align: top;\n",
       "    }\n",
       "\n",
       "    .dataframe thead th {\n",
       "        text-align: right;\n",
       "    }\n",
       "</style>\n",
       "<table border=\"1\" class=\"dataframe\">\n",
       "  <thead>\n",
       "    <tr style=\"text-align: right;\">\n",
       "      <th></th>\n",
       "      <th>train_true</th>\n",
       "      <th>train_predict</th>\n",
       "      <th>erros</th>\n",
       "    </tr>\n",
       "  </thead>\n",
       "  <tbody>\n",
       "    <tr>\n",
       "      <th>303318</th>\n",
       "      <td>23990</td>\n",
       "      <td>23990.000000</td>\n",
       "      <td>0.000000</td>\n",
       "    </tr>\n",
       "    <tr>\n",
       "      <th>452186</th>\n",
       "      <td>43999</td>\n",
       "      <td>43091.164237</td>\n",
       "      <td>907.835763</td>\n",
       "    </tr>\n",
       "    <tr>\n",
       "      <th>105595</th>\n",
       "      <td>14900</td>\n",
       "      <td>14543.896667</td>\n",
       "      <td>356.103333</td>\n",
       "    </tr>\n",
       "    <tr>\n",
       "      <th>10391</th>\n",
       "      <td>32990</td>\n",
       "      <td>32248.736897</td>\n",
       "      <td>741.263103</td>\n",
       "    </tr>\n",
       "    <tr>\n",
       "      <th>87661</th>\n",
       "      <td>23990</td>\n",
       "      <td>23990.000000</td>\n",
       "      <td>0.000000</td>\n",
       "    </tr>\n",
       "    <tr>\n",
       "      <th>...</th>\n",
       "      <td>...</td>\n",
       "      <td>...</td>\n",
       "      <td>...</td>\n",
       "    </tr>\n",
       "    <tr>\n",
       "      <th>107221</th>\n",
       "      <td>15990</td>\n",
       "      <td>16001.552000</td>\n",
       "      <td>-11.552000</td>\n",
       "    </tr>\n",
       "    <tr>\n",
       "      <th>287463</th>\n",
       "      <td>31590</td>\n",
       "      <td>31590.000000</td>\n",
       "      <td>0.000000</td>\n",
       "    </tr>\n",
       "    <tr>\n",
       "      <th>397695</th>\n",
       "      <td>18695</td>\n",
       "      <td>18703.838000</td>\n",
       "      <td>-8.838000</td>\n",
       "    </tr>\n",
       "    <tr>\n",
       "      <th>81696</th>\n",
       "      <td>30990</td>\n",
       "      <td>30990.000000</td>\n",
       "      <td>0.000000</td>\n",
       "    </tr>\n",
       "    <tr>\n",
       "      <th>169138</th>\n",
       "      <td>7290</td>\n",
       "      <td>7353.426000</td>\n",
       "      <td>-63.426000</td>\n",
       "    </tr>\n",
       "  </tbody>\n",
       "</table>\n",
       "<p>63172 rows × 3 columns</p>\n",
       "</div>"
      ],
      "text/plain": [
       "        train_true  train_predict       erros\n",
       "303318       23990   23990.000000    0.000000\n",
       "452186       43999   43091.164237  907.835763\n",
       "105595       14900   14543.896667  356.103333\n",
       "10391        32990   32248.736897  741.263103\n",
       "87661        23990   23990.000000    0.000000\n",
       "...            ...            ...         ...\n",
       "107221       15990   16001.552000  -11.552000\n",
       "287463       31590   31590.000000    0.000000\n",
       "397695       18695   18703.838000   -8.838000\n",
       "81696        30990   30990.000000    0.000000\n",
       "169138        7290    7353.426000  -63.426000\n",
       "\n",
       "[63172 rows x 3 columns]"
      ]
     },
     "execution_count": 98,
     "metadata": {},
     "output_type": "execute_result"
    }
   ],
   "source": [
    "train_report"
   ]
  },
  {
   "cell_type": "code",
   "execution_count": 99,
   "metadata": {},
   "outputs": [
    {
     "data": {
      "text/html": [
       "<div>\n",
       "<style scoped>\n",
       "    .dataframe tbody tr th:only-of-type {\n",
       "        vertical-align: middle;\n",
       "    }\n",
       "\n",
       "    .dataframe tbody tr th {\n",
       "        vertical-align: top;\n",
       "    }\n",
       "\n",
       "    .dataframe thead th {\n",
       "        text-align: right;\n",
       "    }\n",
       "</style>\n",
       "<table border=\"1\" class=\"dataframe\">\n",
       "  <thead>\n",
       "    <tr style=\"text-align: right;\">\n",
       "      <th></th>\n",
       "      <th>test_true</th>\n",
       "      <th>test_predict</th>\n",
       "      <th>erros</th>\n",
       "    </tr>\n",
       "  </thead>\n",
       "  <tbody>\n",
       "    <tr>\n",
       "      <th>366074</th>\n",
       "      <td>17999</td>\n",
       "      <td>17222.154000</td>\n",
       "      <td>776.846000</td>\n",
       "    </tr>\n",
       "    <tr>\n",
       "      <th>239873</th>\n",
       "      <td>32800</td>\n",
       "      <td>37601.154000</td>\n",
       "      <td>-4801.154000</td>\n",
       "    </tr>\n",
       "    <tr>\n",
       "      <th>364595</th>\n",
       "      <td>23590</td>\n",
       "      <td>23587.600000</td>\n",
       "      <td>2.400000</td>\n",
       "    </tr>\n",
       "    <tr>\n",
       "      <th>59206</th>\n",
       "      <td>17995</td>\n",
       "      <td>8209.874000</td>\n",
       "      <td>9785.126000</td>\n",
       "    </tr>\n",
       "    <tr>\n",
       "      <th>104357</th>\n",
       "      <td>13900</td>\n",
       "      <td>12828.124000</td>\n",
       "      <td>1071.876000</td>\n",
       "    </tr>\n",
       "    <tr>\n",
       "      <th>...</th>\n",
       "      <td>...</td>\n",
       "      <td>...</td>\n",
       "      <td>...</td>\n",
       "    </tr>\n",
       "    <tr>\n",
       "      <th>305173</th>\n",
       "      <td>28990</td>\n",
       "      <td>28990.000000</td>\n",
       "      <td>0.000000</td>\n",
       "    </tr>\n",
       "    <tr>\n",
       "      <th>162169</th>\n",
       "      <td>7197</td>\n",
       "      <td>8666.210000</td>\n",
       "      <td>-1469.210000</td>\n",
       "    </tr>\n",
       "    <tr>\n",
       "      <th>65296</th>\n",
       "      <td>21990</td>\n",
       "      <td>21990.000000</td>\n",
       "      <td>0.000000</td>\n",
       "    </tr>\n",
       "    <tr>\n",
       "      <th>145483</th>\n",
       "      <td>49900</td>\n",
       "      <td>38169.123981</td>\n",
       "      <td>11730.876019</td>\n",
       "    </tr>\n",
       "    <tr>\n",
       "      <th>282461</th>\n",
       "      <td>41995</td>\n",
       "      <td>42007.000000</td>\n",
       "      <td>-12.000000</td>\n",
       "    </tr>\n",
       "  </tbody>\n",
       "</table>\n",
       "<p>15793 rows × 3 columns</p>\n",
       "</div>"
      ],
      "text/plain": [
       "        test_true  test_predict         erros\n",
       "366074      17999  17222.154000    776.846000\n",
       "239873      32800  37601.154000  -4801.154000\n",
       "364595      23590  23587.600000      2.400000\n",
       "59206       17995   8209.874000   9785.126000\n",
       "104357      13900  12828.124000   1071.876000\n",
       "...           ...           ...           ...\n",
       "305173      28990  28990.000000      0.000000\n",
       "162169       7197   8666.210000  -1469.210000\n",
       "65296       21990  21990.000000      0.000000\n",
       "145483      49900  38169.123981  11730.876019\n",
       "282461      41995  42007.000000    -12.000000\n",
       "\n",
       "[15793 rows x 3 columns]"
      ]
     },
     "execution_count": 99,
     "metadata": {},
     "output_type": "execute_result"
    }
   ],
   "source": [
    "test_report"
   ]
  },
  {
   "cell_type": "code",
   "execution_count": 105,
   "metadata": {},
   "outputs": [
    {
     "name": "stdout",
     "output_type": "stream",
     "text": [
      "Train setinde mse hatası: 1104.2021469985098\n",
      "Test setinde mse hatası: 3063.4770001960806\n",
      "------------------------------\n",
      "Train setinde r2_score: 0.9909546639814838\n",
      "Test setinde r2_score 0.9314353939069004\n"
     ]
    }
   ],
   "source": [
    "print(\"Train setinde mse hatası:\",np.sqrt(mean_squared_error(y_train,y_pred)))\n",
    "print(\"Test setinde mse hatası:\",np.sqrt(mean_squared_error(y_test,rf_tuned.predict(x_test))))\n",
    "print(\"-\"*30)\n",
    "print(\"Train setinde r2_score:\",r2_score(y_train,y_pred))\n",
    "print(\"Test setinde r2_score\",r2_score(y_test,rf_tuned.predict(x_test)))"
   ]
  },
  {
   "cell_type": "code",
   "execution_count": 106,
   "metadata": {},
   "outputs": [
    {
     "name": "stdout",
     "output_type": "stream",
     "text": [
      "BAŞARDIK ABİ\n"
     ]
    }
   ],
   "source": [
    "print(\"BAŞARDIK ABİ\")"
   ]
  },
  {
   "cell_type": "code",
   "execution_count": null,
   "metadata": {},
   "outputs": [],
   "source": []
  }
 ],
 "metadata": {
  "kernelspec": {
   "display_name": "Python 3",
   "language": "python",
   "name": "python3"
  },
  "language_info": {
   "codemirror_mode": {
    "name": "ipython",
    "version": 3
   },
   "file_extension": ".py",
   "mimetype": "text/x-python",
   "name": "python",
   "nbconvert_exporter": "python",
   "pygments_lexer": "ipython3",
   "version": "3.8.5"
  }
 },
 "nbformat": 4,
 "nbformat_minor": 4
}
