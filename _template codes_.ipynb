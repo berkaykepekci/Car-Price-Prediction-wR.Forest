{
 "cells": [
  {
   "cell_type": "markdown",
   "metadata": {},
   "source": [
    "roadmap:\n",
    "\n",
    "1.import\n",
    "2.label encoding\n",
    "3.get dummies\n",
    "2.neighbor outliers (LocalOutlierFactor)\n",
    "3.singular outliers (quantile)\n",
    "4.automation\n",
    "5.model selection\n",
    "6.tune with GridSearchCV\n",
    "7.early stopping and visualization\n",
    "8.retune with early stopping\n",
    "9.predict\n",
    "10.getting results\n",
    "    "
   ]
  },
  {
   "cell_type": "markdown",
   "metadata": {},
   "source": [
    "### imports"
   ]
  },
  {
   "cell_type": "code",
   "execution_count": 1,
   "metadata": {},
   "outputs": [],
   "source": [
    "import numpy as np\n",
    "import pandas as pd \n",
    "import seaborn as sns\n",
    "from sklearn.model_selection import train_test_split, GridSearchCV\n",
    "from sklearn.metrics import mean_squared_error, r2_score\n",
    "import matplotlib.pyplot as plt\n",
    "from sklearn.preprocessing import scale \n",
    "from sklearn.preprocessing import StandardScaler\n",
    "from sklearn import model_selection\n",
    "from sklearn.linear_model import LinearRegression\n",
    "from sklearn.tree import DecisionTreeRegressor\n",
    "from sklearn.neighbors import KNeighborsRegressor\n",
    "from sklearn.neural_network import MLPRegressor\n",
    "from sklearn.ensemble import RandomForestRegressor\n",
    "from sklearn.ensemble import GradientBoostingRegressor\n",
    "from sklearn import neighbors\n",
    "from sklearn.svm import SVR\n",
    "from xgboost import XGBRegressor\n",
    "from lightgbm import LGBMRegressor\n",
    "from catboost import CatBoostRegressor"
   ]
  },
  {
   "cell_type": "markdown",
   "metadata": {},
   "source": [
    "### LocalOutlierFactor"
   ]
  },
  {
   "cell_type": "code",
   "execution_count": null,
   "metadata": {},
   "outputs": [],
   "source": [
    "from sklearn.neighbors import LocalOutlierFactor\n",
    "lof=LocalOutlierFactor()\n",
    "lof.fit_predict(df)\n",
    "scores=lof.negative_outlier_factor_"
   ]
  },
  {
   "cell_type": "markdown",
   "metadata": {},
   "source": [
    "### quantiles "
   ]
  },
  {
   "cell_type": "code",
   "execution_count": null,
   "metadata": {},
   "outputs": [],
   "source": [
    "q1=df.price.quantile(0.25)\n",
    "q3=df.price.quantile(0.75)\n",
    "iqr=q3-q1\n",
    "down_limit=(q1-iqr*1.5)\n",
    "up_limit=(q3+iqr*1.5)\n",
    "down_limit,up_limit"
   ]
  },
  {
   "cell_type": "markdown",
   "metadata": {},
   "source": [
    "### automation"
   ]
  },
  {
   "cell_type": "code",
   "execution_count": null,
   "metadata": {},
   "outputs": [],
   "source": [
    "models = [LGBMRegressor, \n",
    "          XGBRegressor, \n",
    "          GradientBoostingRegressor, \n",
    "          RandomForestRegressor, \n",
    "          DecisionTreeRegressor,\n",
    "          MLPRegressor,\n",
    "          KNeighborsRegressor, \n",
    "          SVR]\n",
    "\n",
    "def otoml(x_train,y_train,x_test,y_test,alg):\n",
    "    model=alg().fit(x_train,y_train)\n",
    "    rmse=np.sqrt(mean_squared_error(y_test,model.predict(x_test)))\n",
    "    print(alg.__name__,\"algoritmasının RMSE test değeri:\",rmse)\n",
    "\n",
    "for alg in models:\n",
    "    otoml(x_train,y_train,x_test,y_test,alg)"
   ]
  },
  {
   "cell_type": "markdown",
   "metadata": {},
   "source": [
    "### GridSearchCV -lightgbm"
   ]
  },
  {
   "cell_type": "code",
   "execution_count": null,
   "metadata": {},
   "outputs": [],
   "source": [
    "lgbm_params={\n",
    "    \"learning_rate\":[0.01,0.1,0.2],\n",
    "    \"num_leaves\":[25,31,40],\n",
    "    \"n_estimators\":[50,100,500,2000],\n",
    "    \"min_child_samples\":[10,20,30]\n",
    "}\n",
    "\n",
    "lgbm_cv_model=GridSearchCV(LGBMRegressor(),lgbm_params,cv=5,verbose=2,n_jobs=-1).fit(x_train,y_train)"
   ]
  },
  {
   "cell_type": "markdown",
   "metadata": {},
   "source": [
    "### early stopping -lightgbm"
   ]
  },
  {
   "cell_type": "code",
   "execution_count": null,
   "metadata": {},
   "outputs": [],
   "source": [
    "lgbm_tuned=LGBMRegressor(learning_rate=0.01,\n",
    "                        min_child_samples=20,\n",
    "                        n_estimators=2000,\n",
    "                        num_leaves=40).fit(x_train,y_train,eval_metric=\"rmse\",\n",
    "                                          eval_set=[(x_test,y_test)],early_stopping_rounds=2000)"
   ]
  },
  {
   "cell_type": "markdown",
   "metadata": {},
   "source": [
    "### early stopping and visiualization - xgb"
   ]
  },
  {
   "cell_type": "code",
   "execution_count": null,
   "metadata": {},
   "outputs": [],
   "source": [
    "eval_set=[(x_train,y_train),(x_test,y_test)]\n",
    "model=XGBRegressor(n_estimators=5000,max_depth=8)\n",
    "model.fit(x_train,y_train,eval_set=eval_set,eval_metric=[\"rmse\",\"mae\"],verbose=True,early_stopping_rounds=50)\n",
    "\n",
    "results=model.evals_result()\n",
    "results\n",
    "\n",
    "from matplotlib import pyplot\n",
    "results = model.evals_result()\n",
    "epochs = len(results['validation_0']['rmse'])\n",
    "x_axis = range(0, epochs)\n",
    "# plot log loss\n",
    "fig, ax = pyplot.subplots()\n",
    "ax.plot(x_axis, results['validation_0']['mae'], label='Train')\n",
    "ax.plot(x_axis, results['validation_1']['mae'], label='Test')\n",
    "ax.legend()\n",
    "pyplot.ylabel('MAE')\n",
    "pyplot.title('XGBoost MAE')\n",
    "pyplot.show()\n",
    "# plot classification error\n",
    "fig, ax = pyplot.subplots()\n",
    "ax.plot(x_axis, results['validation_0']['rmse'], label='Train')\n",
    "ax.plot(x_axis, results['validation_1']['rmse'], label='Test')\n",
    "ax.legend()\n",
    "pyplot.ylabel('RMSE')\n",
    "pyplot.title('XGBoost RMSE')\n",
    "pyplot.show()"
   ]
  },
  {
   "cell_type": "markdown",
   "metadata": {},
   "source": [
    "### results -lightgbm"
   ]
  },
  {
   "cell_type": "code",
   "execution_count": null,
   "metadata": {},
   "outputs": [],
   "source": [
    "lgbm_tuned=LGBMRegressor(learning_rate=0.01,\n",
    "                        min_child_samples=20,\n",
    "                        n_estimators=1998,\n",
    "                        num_leaves=40).fit(x_train,y_train)\n",
    "\n",
    "y_pred=lgbm_tuned.predict(x_test)\n",
    "\n",
    "print(\"Train setinde rmse hatası:\",np.sqrt(mean_squared_error(y_train,lgbm_tuned.predict(x_train))))\n",
    "print(\"Test setinde rmse hatası:\",np.sqrt(mean_squared_error(y_test,y_pred)))\n",
    "print(\"-\"*30)\n",
    "print(\"Train setinde r2_score:\",r2_score(y_train,lgbm_tuned.predict(x_train)))\n",
    "print(\"Test setinde r2_score\",r2_score(y_test,y_pred))"
   ]
  },
  {
   "cell_type": "markdown",
   "metadata": {},
   "source": [
    "### results with dataframe"
   ]
  },
  {
   "cell_type": "code",
   "execution_count": null,
   "metadata": {},
   "outputs": [],
   "source": [
    "test_predict=y_pred\n",
    "train_predict=lgbm_tuned.predict(x_train)\n",
    "\n",
    "train_report=pd.concat([pd.DataFrame(data=[y_train]).T,pd.DataFrame(data=[pd.Series(train_predict,index=y_train.index,name=\"price\")]).T],axis=1)\n",
    "test_report=pd.concat([pd.DataFrame(data=[y_test]).T,pd.DataFrame(data=[pd.Series(test_predict,index=y_test.index,name=\"price\")]).T],axis=1)\n",
    "train_report.columns=[\"true\",\"pred\"]\n",
    "test_report.columns=[\"true\",\"pred\"]\n",
    "train_report[\"error\"]=abs(train_report.true-train_report.pred)\n",
    "test_report[\"error\"]=abs(test_report.true-test_report.pred)"
   ]
  },
  {
   "cell_type": "markdown",
   "metadata": {},
   "source": [
    "### feature importance"
   ]
  },
  {
   "cell_type": "code",
   "execution_count": null,
   "metadata": {},
   "outputs": [],
   "source": [
    "importance=pd.DataFrame(rf_tuned.feature_importances_*100,index=x_train.columns,columns=[\"importance\"])\n",
    "importance.sort_values(by=\"importance\",axis=0,ascending=True).plot(kind=\"barh\",color=\"r\")\n",
    "plt.xlabel(\"Variable Importance\")\n",
    "plt.gca().legend_=None"
   ]
  },
  {
   "cell_type": "markdown",
   "metadata": {},
   "source": [
    "### scaler"
   ]
  },
  {
   "cell_type": "code",
   "execution_count": null,
   "metadata": {},
   "outputs": [],
   "source": [
    "from sklearn import preprocessing as pp\n",
    "sed=pp.scale(xtr_backup)\n",
    "sed_xtr=pd.DataFrame(sed,columns=x_train.columns,index=x_train.index)\n",
    "sed=pp.scale(xte_backup)\n",
    "sed_xte=pd.DataFrame(sed,columns=x_test.columns,index=x_test.index)\n",
    "\n",
    "xtr_backup=x_train\n",
    "xte_backup=x_test\n",
    "\n",
    "x_train=sed_xtr\n",
    "x_test=sed_xte"
   ]
  }
 ],
 "metadata": {
  "kernelspec": {
   "display_name": "Python 3",
   "language": "python",
   "name": "python3"
  },
  "language_info": {
   "codemirror_mode": {
    "name": "ipython",
    "version": 3
   },
   "file_extension": ".py",
   "mimetype": "text/x-python",
   "name": "python",
   "nbconvert_exporter": "python",
   "pygments_lexer": "ipython3",
   "version": "3.8.5"
  }
 },
 "nbformat": 4,
 "nbformat_minor": 4
}
